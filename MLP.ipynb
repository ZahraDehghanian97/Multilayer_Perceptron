{
  "nbformat": 4,
  "nbformat_minor": 0,
  "metadata": {
    "colab": {
      "name": "MLP.ipynb",
      "provenance": [],
      "collapsed_sections": [],
      "mount_file_id": "181ULuJFxgwPY5M1x8n1Fe1JCsSBjse7e",
      "authorship_tag": "ABX9TyORdnS2tAo7zrKNf3LqkTA3",
      "include_colab_link": true
    },
    "kernelspec": {
      "name": "python3",
      "display_name": "Python 3"
    },
    "language_info": {
      "name": "python"
    }
  },
  "cells": [
    {
      "cell_type": "markdown",
      "metadata": {
        "id": "view-in-github",
        "colab_type": "text"
      },
      "source": [
        "<a href=\"https://colab.research.google.com/github/zahraDehghanian97/Multilayer_Perceptron/blob/master/MLP.ipynb\" target=\"_parent\"><img src=\"https://colab.research.google.com/assets/colab-badge.svg\" alt=\"Open In Colab\"/></a>"
      ]
    },
    {
      "cell_type": "markdown",
      "metadata": {
        "id": "S7rC1g5pPR_f"
      },
      "source": [
        "# prerequisit"
      ]
    },
    {
      "cell_type": "code",
      "metadata": {
        "id": "O4Iw8mqLcrv7"
      },
      "source": [
        "try :\n",
        "  %tensorflow_version 2.x\n",
        "except:\n",
        "  pass\n",
        "import tensorflow as tf\n",
        "from tensorflow import keras\n",
        "import numpy as np\n",
        "from csv import reader\n",
        "import matplotlib.pyplot as plt\n",
        "import random\n",
        "from sklearn.metrics import confusion_matrix\n",
        "from sklearn import preprocessing\n",
        "from tensorflow.keras.utils import to_categorical\n"
      ],
      "execution_count": 3,
      "outputs": []
    },
    {
      "cell_type": "markdown",
      "metadata": {
        "id": "VIK3EJP3PPO2"
      },
      "source": [
        "## mount google drive"
      ]
    },
    {
      "cell_type": "code",
      "metadata": {
        "colab": {
          "base_uri": "https://localhost:8080/"
        },
        "id": "hUoq6FT3OGLq",
        "outputId": "d8db7a8a-9726-415a-f623-221873ef96f5"
      },
      "source": [
        "from google.colab import drive\n",
        "drive.mount('/content/drive')"
      ],
      "execution_count": 2,
      "outputs": [
        {
          "output_type": "stream",
          "text": [
            "Go to this URL in a browser: https://accounts.google.com/o/oauth2/auth?client_id=947318989803-6bn6qk8qdgf4n4g3pfee6491hc0brc4i.apps.googleusercontent.com&redirect_uri=urn%3aietf%3awg%3aoauth%3a2.0%3aoob&scope=email%20https%3a%2f%2fwww.googleapis.com%2fauth%2fdocs.test%20https%3a%2f%2fwww.googleapis.com%2fauth%2fdrive%20https%3a%2f%2fwww.googleapis.com%2fauth%2fdrive.photos.readonly%20https%3a%2f%2fwww.googleapis.com%2fauth%2fpeopleapi.readonly%20https%3a%2f%2fwww.googleapis.com%2fauth%2fdrive.activity.readonly%20https%3a%2f%2fwww.googleapis.com%2fauth%2fexperimentsandconfigs%20https%3a%2f%2fwww.googleapis.com%2fauth%2fphotos.native&response_type=code\n",
            "\n",
            "Enter your authorization code:\n",
            "4/1AY0e-g71YkuzkjS6fFKZ2GywhViMSmKAK12ZwfQ2sCIEDVm4XBjuufcxdRU\n",
            "Mounted at /content/drive\n"
          ],
          "name": "stdout"
        }
      ]
    },
    {
      "cell_type": "markdown",
      "metadata": {
        "id": "geI2i3vvPMCS"
      },
      "source": [
        "# **make dataset ready**"
      ]
    },
    {
      "cell_type": "code",
      "metadata": {
        "id": "oI7xqsYyPK9f"
      },
      "source": [
        "def load_csv(filename):\n",
        "    dataset = list()\n",
        "    with open(filename, 'r') as file:\n",
        "        csv_reader = reader(file)\n",
        "        for row in csv_reader:\n",
        "            if not row:\n",
        "                continue\n",
        "            dataset.append(row)\n",
        "    return dataset\n",
        "\n",
        "def str_column_to_float(dataset, column):\n",
        "    for row in dataset:\n",
        "        row[column] = float(row[column].strip())\n",
        "\n",
        "filename = \"/content/drive/MyDrive/Colab Notebooks/YearPredictionMSD.txt\"\n",
        "dataset = load_csv(filename)\n",
        "for i in range(len(dataset[0])):\n",
        "    str_column_to_float(dataset, i)\n",
        "min_max_scaler = preprocessing.MinMaxScaler()\n",
        "y =preprocessing.LabelEncoder().fit_transform( np.array(dataset)[:,0])\n",
        "features= preprocessing.MinMaxScaler().fit_transform(np.array(dataset)[:,1:])\n",
        "Processed_set = []\n",
        "for i in range(len(y)):\n",
        "  temp =np.append( np.array(y[i]) , np.array(features[i]))\n",
        "  Processed_set.append(temp)\n",
        "np.random.shuffle(Processed_set)\n"
      ],
      "execution_count": 4,
      "outputs": []
    },
    {
      "cell_type": "code",
      "metadata": {
        "colab": {
          "base_uri": "https://localhost:8080/"
        },
        "id": "sc_6iGrIV4Ev",
        "outputId": "a40b327c-2986-42f7-c4f8-7dcc17fe06ab"
      },
      "source": [
        "temp_set = Processed_set[:1000]\n",
        "train_validate, test = np.split(temp_set, [int(.9*len(temp_set))])\n",
        "print(len(train_validate),len(test))\n",
        "num_clasess = len(np.unique(np.array(Processed_set)[:,0]))\n",
        "x_train = train_validate[:,1:]\n",
        "y_train = train_validate[:,0]\n",
        "x_test = test[:,1:]\n",
        "y_test = test[:,0]"
      ],
      "execution_count": 123,
      "outputs": [
        {
          "output_type": "stream",
          "text": [
            "900 100\n"
          ],
          "name": "stdout"
        }
      ]
    },
    {
      "cell_type": "markdown",
      "metadata": {
        "id": "iQWQKOxyNjpm"
      },
      "source": [
        "# **make Model Classification**"
      ]
    },
    {
      "cell_type": "markdown",
      "metadata": {
        "id": "KLR-dtzLl33j"
      },
      "source": [
        "# number of layers"
      ]
    },
    {
      "cell_type": "markdown",
      "metadata": {
        "id": "tukBhIp2jcB1"
      },
      "source": [
        "model 90-500-250-125-89"
      ]
    },
    {
      "cell_type": "code",
      "metadata": {
        "colab": {
          "base_uri": "https://localhost:8080/"
        },
        "id": "w7qcbHyPkvAU",
        "outputId": "1eb6c0af-f3dc-4981-d1da-0c971c08774a"
      },
      "source": [
        "# create model \n",
        "model_classification = keras.models.Sequential()\n",
        "model_classification.add(keras.Input(shape=x_train.shape[1]))\n",
        "model_classification.add(keras.layers.Dense(500, activation='relu'))\n",
        "model_classification.add(keras.layers.Dense(250, activation='relu'))\n",
        "model_classification.add(keras.layers.Dense(125, activation='relu'))\n",
        "model_classification.add(keras.layers.Dense(num_clasess, activation='softmax'))\n",
        "# Compile model\n",
        "model_classification.compile(loss='sparse_categorical_crossentropy', optimizer='adam', metrics=['accuracy'])\n",
        "model_classification.summary()\n",
        "# fit model on the dataset\n",
        "history_classification = model_classification.fit(x_train,y_train,verbose=False, epochs=200,validation_split=2/9)\n",
        "loss_classification, acc_classification = model_classification.evaluate(x_test,y_test, verbose = 2)"
      ],
      "execution_count": 127,
      "outputs": [
        {
          "output_type": "stream",
          "text": [
            "Model: \"sequential_21\"\n",
            "_________________________________________________________________\n",
            "Layer (type)                 Output Shape              Param #   \n",
            "=================================================================\n",
            "dense_61 (Dense)             (None, 500)               45500     \n",
            "_________________________________________________________________\n",
            "dense_62 (Dense)             (None, 250)               125250    \n",
            "_________________________________________________________________\n",
            "dense_63 (Dense)             (None, 125)               31375     \n",
            "_________________________________________________________________\n",
            "dense_64 (Dense)             (None, 89)                11214     \n",
            "=================================================================\n",
            "Total params: 213,339\n",
            "Trainable params: 213,339\n",
            "Non-trainable params: 0\n",
            "_________________________________________________________________\n",
            "4/4 - 0s - loss: 4.0891 - accuracy: 0.0700\n"
          ],
          "name": "stdout"
        }
      ]
    },
    {
      "cell_type": "markdown",
      "metadata": {
        "id": "afHZLAfojpTh"
      },
      "source": [
        "*model* 90-250-125-89"
      ]
    },
    {
      "cell_type": "code",
      "metadata": {
        "colab": {
          "base_uri": "https://localhost:8080/"
        },
        "id": "curL5-IEjpTj",
        "outputId": "b8228322-0f72-4070-fb2f-9190cb292de1"
      },
      "source": [
        "# create model \n",
        "model_classification = keras.models.Sequential()\n",
        "model_classification.add(keras.Input(shape=x_train.shape[1]))\n",
        "model_classification.add(keras.layers.Dense(250, activation='relu'))\n",
        "model_classification.add(keras.layers.Dense(125, activation='relu'))\n",
        "model_classification.add(keras.layers.Dense(num_clasess, activation='softmax'))\n",
        "# Compile model\n",
        "model_classification.compile(loss='sparse_categorical_crossentropy', optimizer='adam', metrics=['accuracy'])\n",
        "model_classification.summary()\n",
        "# fit model on the dataset\n",
        "history_classification = model_classification.fit(x_train,y_train,verbose=False, epochs=200,validation_split=2/9)\n",
        "loss_classification, acc_classification = model_classification.evaluate(x_test,y_test, verbose = 2)"
      ],
      "execution_count": 128,
      "outputs": [
        {
          "output_type": "stream",
          "text": [
            "Model: \"sequential_22\"\n",
            "_________________________________________________________________\n",
            "Layer (type)                 Output Shape              Param #   \n",
            "=================================================================\n",
            "dense_65 (Dense)             (None, 250)               22750     \n",
            "_________________________________________________________________\n",
            "dense_66 (Dense)             (None, 125)               31375     \n",
            "_________________________________________________________________\n",
            "dense_67 (Dense)             (None, 89)                11214     \n",
            "=================================================================\n",
            "Total params: 65,339\n",
            "Trainable params: 65,339\n",
            "Non-trainable params: 0\n",
            "_________________________________________________________________\n",
            "4/4 - 0s - loss: 3.5013 - accuracy: 0.0800\n"
          ],
          "name": "stdout"
        }
      ]
    },
    {
      "cell_type": "markdown",
      "metadata": {
        "id": "uDTMUZ7Cj2og"
      },
      "source": [
        "model 90-125-89"
      ]
    },
    {
      "cell_type": "code",
      "metadata": {
        "colab": {
          "base_uri": "https://localhost:8080/"
        },
        "id": "QP0L3OHQj2pG",
        "outputId": "df310bb6-37a6-426d-db1b-d3f03642af8f"
      },
      "source": [
        "# create model \n",
        "model_classification = keras.models.Sequential()\n",
        "model_classification.add(keras.Input(shape=x_train.shape[1]))\n",
        "model_classification.add(keras.layers.Dense(125, activation='relu'))\n",
        "model_classification.add(keras.layers.Dense(num_clasess, activation='softmax'))\n",
        "# Compile model\n",
        "model_classification.compile(loss='sparse_categorical_crossentropy', optimizer='adam', metrics=['accuracy'])\n",
        "model_classification.summary()\n",
        "# fit model on the dataset\n",
        "history_classification = model_classification.fit(x_train,y_train,verbose=False, epochs=200,validation_split=2/9)\n",
        "loss_classification, acc_classification = model_classification.evaluate(x_test,y_test, verbose = 2)"
      ],
      "execution_count": 129,
      "outputs": [
        {
          "output_type": "stream",
          "text": [
            "Model: \"sequential_23\"\n",
            "_________________________________________________________________\n",
            "Layer (type)                 Output Shape              Param #   \n",
            "=================================================================\n",
            "dense_68 (Dense)             (None, 125)               11375     \n",
            "_________________________________________________________________\n",
            "dense_69 (Dense)             (None, 89)                11214     \n",
            "=================================================================\n",
            "Total params: 22,589\n",
            "Trainable params: 22,589\n",
            "Non-trainable params: 0\n",
            "_________________________________________________________________\n",
            "4/4 - 0s - loss: 3.5099 - accuracy: 0.0400\n"
          ],
          "name": "stdout"
        }
      ]
    },
    {
      "cell_type": "markdown",
      "metadata": {
        "id": "eHtgevanmAGD"
      },
      "source": [
        "# learning rate"
      ]
    },
    {
      "cell_type": "markdown",
      "metadata": {
        "id": "Dv0A7MiwmJRN"
      },
      "source": [
        "learning rate = 0.1"
      ]
    },
    {
      "cell_type": "code",
      "metadata": {
        "colab": {
          "base_uri": "https://localhost:8080/"
        },
        "id": "YiBj4FynmJRO",
        "outputId": "af5ccc89-ae8a-46ef-941e-77156bec2284"
      },
      "source": [
        "# create model \n",
        "model_classification = keras.models.Sequential()\n",
        "model_classification.add(keras.Input(shape=x_train.shape[1]))\n",
        "model_classification.add(keras.layers.Dense(250, activation='relu'))\n",
        "model_classification.add(keras.layers.Dense(125, activation='relu'))\n",
        "model_classification.add(keras.layers.Dense(num_clasess, activation='softmax'))\n",
        "# Compile model\n",
        "model_classification.compile(loss='sparse_categorical_crossentropy', optimizer=keras.optimizers.Adam(learning_rate=0.1), metrics=['accuracy'])\n",
        "# model_classification.summary()\n",
        "# fit model on the dataset\n",
        "history_classification = model_classification.fit(x_train,y_train,verbose=False, epochs=200,validation_split=2/9)\n",
        "loss_classification, acc_classification = model_classification.evaluate(x_test,y_test, verbose = 2)"
      ],
      "execution_count": 130,
      "outputs": [
        {
          "output_type": "stream",
          "text": [
            "4/4 - 0s - loss: 3.5106 - accuracy: 0.0600\n"
          ],
          "name": "stdout"
        }
      ]
    },
    {
      "cell_type": "markdown",
      "metadata": {
        "id": "TdYoZNcimz8Q"
      },
      "source": [
        "learning rate = 0.01"
      ]
    },
    {
      "cell_type": "code",
      "metadata": {
        "colab": {
          "base_uri": "https://localhost:8080/"
        },
        "id": "BE_DWaJzmz8k",
        "outputId": "0f026051-7ded-43b8-d3ed-7886715efbdd"
      },
      "source": [
        "# create model \n",
        "model_classification = keras.models.Sequential()\n",
        "model_classification.add(keras.Input(shape=x_train.shape[1]))\n",
        "model_classification.add(keras.layers.Dense(250, activation='relu'))\n",
        "model_classification.add(keras.layers.Dense(125, activation='relu'))\n",
        "model_classification.add(keras.layers.Dense(num_clasess, activation='softmax'))\n",
        "# Compile model\n",
        "model_classification.compile(loss='sparse_categorical_crossentropy', optimizer=keras.optimizers.Adam(learning_rate=0.01), metrics=['accuracy'])\n",
        "# model_classification.summary()\n",
        "# fit model on the dataset\n",
        "history_classification = model_classification.fit(x_train,y_train,verbose=False, epochs=200,validation_split=2/9)\n",
        "loss_classification, acc_classification = model_classification.evaluate(x_test,y_test, verbose = 2)"
      ],
      "execution_count": 131,
      "outputs": [
        {
          "output_type": "stream",
          "text": [
            "4/4 - 0s - loss: 3.4697 - accuracy: 0.0500\n"
          ],
          "name": "stdout"
        }
      ]
    },
    {
      "cell_type": "markdown",
      "metadata": {
        "id": "Lk_rvBYzm1p1"
      },
      "source": [
        "learning rate = 0.001"
      ]
    },
    {
      "cell_type": "code",
      "metadata": {
        "colab": {
          "base_uri": "https://localhost:8080/"
        },
        "id": "_543tZVpm1p2",
        "outputId": "ba4dc453-262a-4460-d71c-3dc6ce522d4c"
      },
      "source": [
        "# create model \n",
        "model_classification = keras.models.Sequential()\n",
        "model_classification.add(keras.Input(shape=x_train.shape[1]))\n",
        "model_classification.add(keras.layers.Dense(250, activation='relu'))\n",
        "model_classification.add(keras.layers.Dense(125, activation='relu'))\n",
        "model_classification.add(keras.layers.Dense(num_clasess, activation='softmax'))\n",
        "# Compile model\n",
        "model_classification.compile(loss='sparse_categorical_crossentropy', optimizer=keras.optimizers.Adam(learning_rate=0.001), metrics=['accuracy'])\n",
        "# model_classification.summary()\n",
        "# fit model on the dataset\n",
        "history_classification = model_classification.fit(x_train,y_train,verbose=False, epochs=200,validation_split=2/9)\n",
        "loss_classification, acc_classification = model_classification.evaluate(x_test,y_test, verbose = 2)"
      ],
      "execution_count": 133,
      "outputs": [
        {
          "output_type": "stream",
          "text": [
            "4/4 - 0s - loss: 3.5908 - accuracy: 0.0700\n"
          ],
          "name": "stdout"
        }
      ]
    },
    {
      "cell_type": "markdown",
      "metadata": {
        "id": "Z1hNxovZqCVV"
      },
      "source": [
        "# number of neurons"
      ]
    },
    {
      "cell_type": "markdown",
      "metadata": {
        "id": "45sC07LLqcHh"
      },
      "source": [
        "model 90-300-150-89"
      ]
    },
    {
      "cell_type": "code",
      "metadata": {
        "colab": {
          "base_uri": "https://localhost:8080/"
        },
        "id": "Q1RhjId2qYDW",
        "outputId": "411590c1-06a8-4bf2-9bfb-1c9cc6f39e3e"
      },
      "source": [
        "# create model \n",
        "model_classification = keras.models.Sequential()\n",
        "model_classification.add(keras.Input(shape=x_train.shape[1]))\n",
        "model_classification.add(keras.layers.Dense(300, activation='relu'))\n",
        "model_classification.add(keras.layers.Dense(150, activation='relu'))\n",
        "model_classification.add(keras.layers.Dense(num_clasess, activation='softmax'))\n",
        "# Compile model\n",
        "model_classification.compile(loss='sparse_categorical_crossentropy', optimizer='adam', metrics=['accuracy'])\n",
        "model_classification.summary()\n",
        "# fit model on the dataset\n",
        "history_classification = model_classification.fit(x_train,y_train,verbose=False, epochs=200,validation_split=2/9)\n",
        "loss_classification, acc_classification = model_classification.evaluate(x_test,y_test, verbose = 2)"
      ],
      "execution_count": 134,
      "outputs": [
        {
          "output_type": "stream",
          "text": [
            "Model: \"sequential_28\"\n",
            "_________________________________________________________________\n",
            "Layer (type)                 Output Shape              Param #   \n",
            "=================================================================\n",
            "dense_82 (Dense)             (None, 300)               27300     \n",
            "_________________________________________________________________\n",
            "dense_83 (Dense)             (None, 150)               45150     \n",
            "_________________________________________________________________\n",
            "dense_84 (Dense)             (None, 89)                13439     \n",
            "=================================================================\n",
            "Total params: 85,889\n",
            "Trainable params: 85,889\n",
            "Non-trainable params: 0\n",
            "_________________________________________________________________\n",
            "4/4 - 0s - loss: 3.6666 - accuracy: 0.0300\n"
          ],
          "name": "stdout"
        }
      ]
    },
    {
      "cell_type": "markdown",
      "metadata": {
        "id": "9BZ5Gf9vqpVv"
      },
      "source": [
        "model 90-500-250-89"
      ]
    },
    {
      "cell_type": "code",
      "metadata": {
        "colab": {
          "base_uri": "https://localhost:8080/"
        },
        "id": "TG_dYQHhqpWO",
        "outputId": "f5356ecb-e71f-4046-ffef-b52ec2af09e5"
      },
      "source": [
        "# create model \n",
        "model_classification = keras.models.Sequential()\n",
        "model_classification.add(keras.Input(shape=x_train.shape[1]))\n",
        "model_classification.add(keras.layers.Dense(500, activation='relu'))\n",
        "model_classification.add(keras.layers.Dense(250, activation='relu'))\n",
        "model_classification.add(keras.layers.Dense(num_clasess, activation='softmax'))\n",
        "# Compile model\n",
        "model_classification.compile(loss='sparse_categorical_crossentropy', optimizer='adam', metrics=['accuracy'])\n",
        "model_classification.summary()\n",
        "# fit model on the dataset\n",
        "history_classification = model_classification.fit(x_train,y_train,verbose=False, epochs=200,validation_split=2/9)\n",
        "loss_classification, acc_classification = model_classification.evaluate(x_test,y_test, verbose = 2)"
      ],
      "execution_count": 135,
      "outputs": [
        {
          "output_type": "stream",
          "text": [
            "Model: \"sequential_29\"\n",
            "_________________________________________________________________\n",
            "Layer (type)                 Output Shape              Param #   \n",
            "=================================================================\n",
            "dense_85 (Dense)             (None, 500)               45500     \n",
            "_________________________________________________________________\n",
            "dense_86 (Dense)             (None, 250)               125250    \n",
            "_________________________________________________________________\n",
            "dense_87 (Dense)             (None, 89)                22339     \n",
            "=================================================================\n",
            "Total params: 193,089\n",
            "Trainable params: 193,089\n",
            "Non-trainable params: 0\n",
            "_________________________________________________________________\n",
            "4/4 - 0s - loss: 3.7679 - accuracy: 0.0500\n"
          ],
          "name": "stdout"
        }
      ]
    },
    {
      "cell_type": "markdown",
      "metadata": {
        "id": "XHS5G82CqrRn"
      },
      "source": [
        "model 90-200-100-89"
      ]
    },
    {
      "cell_type": "code",
      "metadata": {
        "colab": {
          "base_uri": "https://localhost:8080/"
        },
        "id": "EMjSn2_fqrRo",
        "outputId": "3bae4b0a-a277-4e9f-c3d8-1c7c78164beb"
      },
      "source": [
        "# create model \n",
        "model_classification = keras.models.Sequential()\n",
        "model_classification.add(keras.Input(shape=x_train.shape[1]))\n",
        "model_classification.add(keras.layers.Dense(200, activation='relu'))\n",
        "model_classification.add(keras.layers.Dense(100, activation='relu'))\n",
        "model_classification.add(keras.layers.Dense(num_clasess, activation='softmax'))\n",
        "# Compile model\n",
        "model_classification.compile(loss='sparse_categorical_crossentropy', optimizer='adam', metrics=['accuracy'])\n",
        "model_classification.summary()\n",
        "# fit model on the dataset\n",
        "history_classification = model_classification.fit(x_train,y_train,verbose=False, epochs=200,validation_split=2/9)\n",
        "loss_classification, acc_classification = model_classification.evaluate(x_test,y_test, verbose = 2)"
      ],
      "execution_count": 136,
      "outputs": [
        {
          "output_type": "stream",
          "text": [
            "Model: \"sequential_30\"\n",
            "_________________________________________________________________\n",
            "Layer (type)                 Output Shape              Param #   \n",
            "=================================================================\n",
            "dense_88 (Dense)             (None, 200)               18200     \n",
            "_________________________________________________________________\n",
            "dense_89 (Dense)             (None, 100)               20100     \n",
            "_________________________________________________________________\n",
            "dense_90 (Dense)             (None, 89)                8989      \n",
            "=================================================================\n",
            "Total params: 47,289\n",
            "Trainable params: 47,289\n",
            "Non-trainable params: 0\n",
            "_________________________________________________________________\n",
            "4/4 - 0s - loss: 3.4708 - accuracy: 0.0500\n"
          ],
          "name": "stdout"
        }
      ]
    },
    {
      "cell_type": "markdown",
      "metadata": {
        "id": "DS6pRxe_j9Nl"
      },
      "source": [
        "# plot best result"
      ]
    },
    {
      "cell_type": "code",
      "metadata": {
        "colab": {
          "base_uri": "https://localhost:8080/",
          "height": 833
        },
        "id": "rzJDIi_rqRBa",
        "outputId": "59beb765-5aff-4cf2-f18c-4b5e190d6ffb"
      },
      "source": [
        "# create model \n",
        "model_classification = keras.models.Sequential()\n",
        "model_classification.add(keras.Input(shape=x_train.shape[1]))\n",
        "model_classification.add(keras.layers.Dense(250, activation='relu'))\n",
        "model_classification.add(keras.layers.Dense(125, activation='relu'))\n",
        "model_classification.add(keras.layers.Dense(num_clasess, activation='softmax'))\n",
        "# Compile model\n",
        "model_classification.compile(loss='sparse_categorical_crossentropy', optimizer='adam', metrics=['accuracy'])\n",
        "model_classification.summary()\n",
        "# fit model on the dataset\n",
        "history_classification = model_classification.fit(x_train,y_train,verbose=False, epochs=200,validation_split=2/9)\n",
        "loss_classification, acc_classification = model_classification.evaluate(x_test,y_test, verbose = 2)\n",
        "# plot model accuracy and loss \n",
        "plt.plot(history_classification.history['accuracy'])\n",
        "plt.plot(history_classification.history['val_accuracy'])\n",
        "plt.title('accuracy')\n",
        "plt.ylabel('accuracy')\n",
        "plt.xlabel('epoch')\n",
        "plt.legend(['train', 'test'], loc='best')\n",
        "plt.show()\n",
        "plt.plot(history_classification.history['loss'])\n",
        "plt.plot(history_classification.history['val_loss'])\n",
        "plt.title('loss')\n",
        "plt.ylabel('loss')\n",
        "plt.xlabel('epoch')\n",
        "plt.legend(['train', 'val'], loc='best')\n",
        "plt.show()"
      ],
      "execution_count": 145,
      "outputs": [
        {
          "output_type": "stream",
          "text": [
            "Model: \"sequential_39\"\n",
            "_________________________________________________________________\n",
            "Layer (type)                 Output Shape              Param #   \n",
            "=================================================================\n",
            "dense_115 (Dense)            (None, 250)               22750     \n",
            "_________________________________________________________________\n",
            "dense_116 (Dense)            (None, 125)               31375     \n",
            "_________________________________________________________________\n",
            "dense_117 (Dense)            (None, 89)                11214     \n",
            "=================================================================\n",
            "Total params: 65,339\n",
            "Trainable params: 65,339\n",
            "Non-trainable params: 0\n",
            "_________________________________________________________________\n",
            "4/4 - 0s - loss: 3.6319 - accuracy: 0.0700\n"
          ],
          "name": "stdout"
        },
        {
          "output_type": "display_data",
          "data": {
            "image/png": "[encoded data removed]",
            "text/plain": [
              "<Figure size 432x288 with 1 Axes>"
            ]
          },
          "metadata": {
            "tags": [],
            "needs_background": "light"
          }
        },
        {
          "output_type": "display_data",
          "data": {
            "image/png": "[encoded data removed]",
            "text/plain": [
              "<Figure size 432x288 with 1 Axes>"
            ]
          },
          "metadata": {
            "tags": [],
            "needs_background": "light"
          }
        }
      ]
    },
    {
      "cell_type": "markdown",
      "metadata": {
        "id": "T0uqkcx6qRYX"
      },
      "source": [
        "# **make Model Regression**"
      ]
    },
    {
      "cell_type": "markdown",
      "metadata": {
        "id": "I3gg0h4p2wto"
      },
      "source": [
        "model 90-500-250-125-1"
      ]
    },
    {
      "cell_type": "code",
      "metadata": {
        "colab": {
          "base_uri": "https://localhost:8080/"
        },
        "id": "LVqun_RqqRYY",
        "outputId": "2aa32ce2-e136-4c37-dc15-8f41091ab7fa"
      },
      "source": [
        "# create model\n",
        "model_regression = keras.models.Sequential()\n",
        "model_regression.add(keras.Input(shape=x_train.shape[1]))\n",
        "model_regression.add(keras.layers.Dense(500, activation='relu'))\n",
        "model_regression.add(keras.layers.Dense(250, activation='relu'))\n",
        "model_regression.add(keras.layers.Dense(125, activation='relu'))\n",
        "model_regression.add(keras.layers.Dense(1, activation='linear'))\n",
        "# Compile model\n",
        "model_regression.compile(loss='mean_absolute_error', optimizer='adam', metrics=['mean_squared_error'])\n",
        "model_regression.summary()\n",
        "# fit model on the dataset\n",
        "history_regression = model_regression.fit(x_train,y_train, epochs=500,verbose= False,validation_split=2/9)\n",
        "loss_regression, acc_regression = model_regression.evaluate(x_test,y_test, verbose = 2)"
      ],
      "execution_count": 156,
      "outputs": [
        {
          "output_type": "stream",
          "text": [
            "Model: \"sequential_48\"\n",
            "_________________________________________________________________\n",
            "Layer (type)                 Output Shape              Param #   \n",
            "=================================================================\n",
            "dense_143 (Dense)            (None, 500)               45500     \n",
            "_________________________________________________________________\n",
            "dense_144 (Dense)            (None, 250)               125250    \n",
            "_________________________________________________________________\n",
            "dense_145 (Dense)            (None, 125)               31375     \n",
            "_________________________________________________________________\n",
            "dense_146 (Dense)            (None, 1)                 126       \n",
            "=================================================================\n",
            "Total params: 202,251\n",
            "Trainable params: 202,251\n",
            "Non-trainable params: 0\n",
            "_________________________________________________________________\n",
            "4/4 - 0s - loss: 6.6993 - mean_squared_error: 83.3077\n"
          ],
          "name": "stdout"
        }
      ]
    },
    {
      "cell_type": "markdown",
      "metadata": {
        "id": "Hdk8lQwlqRYa"
      },
      "source": [
        "model 90-250-125-1"
      ]
    },
    {
      "cell_type": "code",
      "metadata": {
        "colab": {
          "base_uri": "https://localhost:8080/"
        },
        "id": "TlMoMdYG1Yws",
        "outputId": "2d1bc821-e487-40f0-feaf-108f6cb4949f"
      },
      "source": [
        "# create model\n",
        "model_regression = keras.models.Sequential()\n",
        "model_regression.add(keras.Input(shape=x_train.shape[1]))\n",
        "model_regression.add(keras.layers.Dense(250, activation='relu'))\n",
        "model_regression.add(keras.layers.Dense(125, activation='relu'))\n",
        "model_regression.add(keras.layers.Dense(1, activation='linear'))\n",
        "# Compile model\n",
        "model_regression.compile(loss='mean_absolute_error', optimizer='adam', metrics=['mean_squared_error'])\n",
        "model_regression.summary()\n",
        "# fit model on the dataset\n",
        "history_regression = model_regression.fit(x_train,y_train, epochs=500,verbose= False,validation_split=2/9)\n",
        "loss_regression, acc_regression = model_regression.evaluate(x_test,y_test, verbose = 2)"
      ],
      "execution_count": 157,
      "outputs": [
        {
          "output_type": "stream",
          "text": [
            "Model: \"sequential_49\"\n",
            "_________________________________________________________________\n",
            "Layer (type)                 Output Shape              Param #   \n",
            "=================================================================\n",
            "dense_147 (Dense)            (None, 250)               22750     \n",
            "_________________________________________________________________\n",
            "dense_148 (Dense)            (None, 125)               31375     \n",
            "_________________________________________________________________\n",
            "dense_149 (Dense)            (None, 1)                 126       \n",
            "=================================================================\n",
            "Total params: 54,251\n",
            "Trainable params: 54,251\n",
            "Non-trainable params: 0\n",
            "_________________________________________________________________\n",
            "4/4 - 0s - loss: 6.7653 - mean_squared_error: 86.2693\n"
          ],
          "name": "stdout"
        }
      ]
    },
    {
      "cell_type": "markdown",
      "metadata": {
        "id": "CWLX91rs3Rgj"
      },
      "source": [
        "model 90-125-1"
      ]
    },
    {
      "cell_type": "code",
      "metadata": {
        "colab": {
          "base_uri": "https://localhost:8080/"
        },
        "id": "kL0wpuLJqRYb",
        "outputId": "78873534-0680-4c93-d886-9660c4492e0f"
      },
      "source": [
        "# create model\n",
        "model_regression = keras.models.Sequential()\n",
        "model_regression.add(keras.Input(shape=x_train.shape[1]))\n",
        "model_regression.add(keras.layers.Dense(125, activation='relu'))\n",
        "model_regression.add(keras.layers.Dense(1, activation='linear'))\n",
        "# Compile model\n",
        "model_regression.compile(loss='mean_absolute_error', optimizer='adam', metrics=['mean_squared_error'])\n",
        "model_regression.summary()\n",
        "# fit model on the dataset\n",
        "history_regression = model_regression.fit(x_train,y_train, epochs=500,verbose= False,validation_split=2/9)\n",
        "loss_regression, acc_regression = model_regression.evaluate(x_test,y_test, verbose = 2)"
      ],
      "execution_count": 158,
      "outputs": [
        {
          "output_type": "stream",
          "text": [
            "Model: \"sequential_50\"\n",
            "_________________________________________________________________\n",
            "Layer (type)                 Output Shape              Param #   \n",
            "=================================================================\n",
            "dense_150 (Dense)            (None, 125)               11375     \n",
            "_________________________________________________________________\n",
            "dense_151 (Dense)            (None, 1)                 126       \n",
            "=================================================================\n",
            "Total params: 11,501\n",
            "Trainable params: 11,501\n",
            "Non-trainable params: 0\n",
            "_________________________________________________________________\n",
            "4/4 - 0s - loss: 7.1282 - mean_squared_error: 103.3775\n"
          ],
          "name": "stdout"
        }
      ]
    },
    {
      "cell_type": "markdown",
      "metadata": {
        "id": "8t584tnL7PkY"
      },
      "source": [
        "# learning rate"
      ]
    },
    {
      "cell_type": "markdown",
      "metadata": {
        "id": "4vKO98687ZCp"
      },
      "source": [
        "learning rate = 0.1"
      ]
    },
    {
      "cell_type": "code",
      "metadata": {
        "colab": {
          "base_uri": "https://localhost:8080/"
        },
        "id": "ZygDt9cq7ZCr",
        "outputId": "4f5d42a3-c2f5-482f-85e9-96ed14fbc33a"
      },
      "source": [
        "# create model\n",
        "model_regression = keras.models.Sequential()\n",
        "model_regression.add(keras.Input(shape=x_train.shape[1]))\n",
        "model_regression.add(keras.layers.Dense(500, activation='relu'))\n",
        "model_regression.add(keras.layers.Dense(250, activation='relu'))\n",
        "model_regression.add(keras.layers.Dense(125, activation='relu'))\n",
        "model_regression.add(keras.layers.Dense(1, activation='linear'))\n",
        "# Compile model\n",
        "model_regression.compile(loss='mean_absolute_error',optimizer=keras.optimizers.Adam(learning_rate=0.1), metrics=['mean_squared_error'])\n",
        "model_regression.summary()\n",
        "# fit model on the dataset\n",
        "history_regression = model_regression.fit(x_train,y_train, epochs=500,verbose= False,validation_split=2/9)\n",
        "loss_regression, acc_regression = model_regression.evaluate(x_test,y_test, verbose = 2)"
      ],
      "execution_count": 160,
      "outputs": [
        {
          "output_type": "stream",
          "text": [
            "Model: \"sequential_52\"\n",
            "_________________________________________________________________\n",
            "Layer (type)                 Output Shape              Param #   \n",
            "=================================================================\n",
            "dense_155 (Dense)            (None, 500)               45500     \n",
            "_________________________________________________________________\n",
            "dense_156 (Dense)            (None, 250)               125250    \n",
            "_________________________________________________________________\n",
            "dense_157 (Dense)            (None, 125)               31375     \n",
            "_________________________________________________________________\n",
            "dense_158 (Dense)            (None, 1)                 126       \n",
            "=================================================================\n",
            "Total params: 202,251\n",
            "Trainable params: 202,251\n",
            "Non-trainable params: 0\n",
            "_________________________________________________________________\n",
            "4/4 - 0s - loss: 7.0448 - mean_squared_error: 102.8743\n"
          ],
          "name": "stdout"
        }
      ]
    },
    {
      "cell_type": "markdown",
      "metadata": {
        "id": "4iAMvmO27rbf"
      },
      "source": [
        "learning rate = 0.01"
      ]
    },
    {
      "cell_type": "code",
      "metadata": {
        "colab": {
          "base_uri": "https://localhost:8080/"
        },
        "id": "IGb7APg87rbp",
        "outputId": "648d7356-d9d8-4362-8344-f0c1202707cb"
      },
      "source": [
        "# create model\n",
        "model_regression = keras.models.Sequential()\n",
        "model_regression.add(keras.Input(shape=x_train.shape[1]))\n",
        "model_regression.add(keras.layers.Dense(500, activation='relu'))\n",
        "model_regression.add(keras.layers.Dense(250, activation='relu'))\n",
        "model_regression.add(keras.layers.Dense(125, activation='relu'))\n",
        "model_regression.add(keras.layers.Dense(1, activation='linear'))\n",
        "# Compile model\n",
        "model_regression.compile(loss='mean_absolute_error',optimizer=keras.optimizers.Adam(learning_rate=0.01), metrics=['mean_squared_error'])\n",
        "model_regression.summary()\n",
        "# fit model on the dataset\n",
        "history_regression = model_regression.fit(x_train,y_train, epochs=500,verbose= False,validation_split=2/9)\n",
        "loss_regression, acc_regression = model_regression.evaluate(x_test,y_test, verbose = 2)"
      ],
      "execution_count": 161,
      "outputs": [
        {
          "output_type": "stream",
          "text": [
            "Model: \"sequential_53\"\n",
            "_________________________________________________________________\n",
            "Layer (type)                 Output Shape              Param #   \n",
            "=================================================================\n",
            "dense_159 (Dense)            (None, 500)               45500     \n",
            "_________________________________________________________________\n",
            "dense_160 (Dense)            (None, 250)               125250    \n",
            "_________________________________________________________________\n",
            "dense_161 (Dense)            (None, 125)               31375     \n",
            "_________________________________________________________________\n",
            "dense_162 (Dense)            (None, 1)                 126       \n",
            "=================================================================\n",
            "Total params: 202,251\n",
            "Trainable params: 202,251\n",
            "Non-trainable params: 0\n",
            "_________________________________________________________________\n",
            "4/4 - 0s - loss: 6.9329 - mean_squared_error: 92.9388\n"
          ],
          "name": "stdout"
        }
      ]
    },
    {
      "cell_type": "markdown",
      "metadata": {
        "id": "a-gk9so_7ta4"
      },
      "source": [
        "learning rate = 0.001"
      ]
    },
    {
      "cell_type": "code",
      "metadata": {
        "colab": {
          "base_uri": "https://localhost:8080/"
        },
        "id": "96jT_YyO7ta8",
        "outputId": "566788db-12ce-4c33-ff90-89cd5d7cd140"
      },
      "source": [
        "# create model\n",
        "model_regression = keras.models.Sequential()\n",
        "model_regression.add(keras.Input(shape=x_train.shape[1]))\n",
        "model_regression.add(keras.layers.Dense(500, activation='relu'))\n",
        "model_regression.add(keras.layers.Dense(250, activation='relu'))\n",
        "model_regression.add(keras.layers.Dense(125, activation='relu'))\n",
        "model_regression.add(keras.layers.Dense(1, activation='linear'))\n",
        "# Compile model\n",
        "model_regression.compile(loss='mean_absolute_error',optimizer=keras.optimizers.Adam(learning_rate=0.001), metrics=['mean_squared_error'])\n",
        "model_regression.summary()\n",
        "# fit model on the dataset\n",
        "history_regression = model_regression.fit(x_train,y_train, epochs=500,verbose= False,validation_split=2/9)\n",
        "loss_regression, acc_regression = model_regression.evaluate(x_test,y_test, verbose = 2)"
      ],
      "execution_count": 162,
      "outputs": [
        {
          "output_type": "stream",
          "text": [
            "Model: \"sequential_54\"\n",
            "_________________________________________________________________\n",
            "Layer (type)                 Output Shape              Param #   \n",
            "=================================================================\n",
            "dense_163 (Dense)            (None, 500)               45500     \n",
            "_________________________________________________________________\n",
            "dense_164 (Dense)            (None, 250)               125250    \n",
            "_________________________________________________________________\n",
            "dense_165 (Dense)            (None, 125)               31375     \n",
            "_________________________________________________________________\n",
            "dense_166 (Dense)            (None, 1)                 126       \n",
            "=================================================================\n",
            "Total params: 202,251\n",
            "Trainable params: 202,251\n",
            "Non-trainable params: 0\n",
            "_________________________________________________________________\n",
            "4/4 - 0s - loss: 6.7801 - mean_squared_error: 88.3100\n"
          ],
          "name": "stdout"
        }
      ]
    },
    {
      "cell_type": "markdown",
      "metadata": {
        "id": "Tw9CQkmz8bNQ"
      },
      "source": [
        "learning rate = 0.0001"
      ]
    },
    {
      "cell_type": "code",
      "metadata": {
        "colab": {
          "base_uri": "https://localhost:8080/"
        },
        "id": "afmvu6HY8bNT",
        "outputId": "f28bc79d-3822-4ef9-cbfe-53f846226b39"
      },
      "source": [
        "# create model\n",
        "model_regression = keras.models.Sequential()\n",
        "model_regression.add(keras.Input(shape=x_train.shape[1]))\n",
        "model_regression.add(keras.layers.Dense(500, activation='relu'))\n",
        "model_regression.add(keras.layers.Dense(250, activation='relu'))\n",
        "model_regression.add(keras.layers.Dense(125, activation='relu'))\n",
        "model_regression.add(keras.layers.Dense(1, activation='linear'))\n",
        "# Compile model\n",
        "model_regression.compile(loss='mean_absolute_error',optimizer=keras.optimizers.Adam(learning_rate=0.0001), metrics=['mean_squared_error'])\n",
        "model_regression.summary()\n",
        "# fit model on the dataset\n",
        "history_regression = model_regression.fit(x_train,y_train, epochs=500,verbose= False,validation_split=2/9)\n",
        "loss_regression, acc_regression = model_regression.evaluate(x_test,y_test, verbose = 2)"
      ],
      "execution_count": 163,
      "outputs": [
        {
          "output_type": "stream",
          "text": [
            "Model: \"sequential_55\"\n",
            "_________________________________________________________________\n",
            "Layer (type)                 Output Shape              Param #   \n",
            "=================================================================\n",
            "dense_167 (Dense)            (None, 500)               45500     \n",
            "_________________________________________________________________\n",
            "dense_168 (Dense)            (None, 250)               125250    \n",
            "_________________________________________________________________\n",
            "dense_169 (Dense)            (None, 125)               31375     \n",
            "_________________________________________________________________\n",
            "dense_170 (Dense)            (None, 1)                 126       \n",
            "=================================================================\n",
            "Total params: 202,251\n",
            "Trainable params: 202,251\n",
            "Non-trainable params: 0\n",
            "_________________________________________________________________\n",
            "4/4 - 0s - loss: 6.9521 - mean_squared_error: 85.9774\n"
          ],
          "name": "stdout"
        }
      ]
    },
    {
      "cell_type": "markdown",
      "metadata": {
        "id": "rB808Fv08O5m"
      },
      "source": [
        "# number of neurons"
      ]
    },
    {
      "cell_type": "markdown",
      "metadata": {
        "id": "rpGYG7VM8n3j"
      },
      "source": [
        "model 90-125-80-40-1"
      ]
    },
    {
      "cell_type": "code",
      "metadata": {
        "colab": {
          "base_uri": "https://localhost:8080/"
        },
        "id": "zS_poXcf8n3l",
        "outputId": "2aa32ce2-e136-4c37-dc15-8f41091ab7fa"
      },
      "source": [
        "# create model\n",
        "model_regression = keras.models.Sequential()\n",
        "model_regression.add(keras.Input(shape=x_train.shape[1]))\n",
        "model_regression.add(keras.layers.Dense(125, activation='relu'))\n",
        "model_regression.add(keras.layers.Dense(80, activation='relu'))\n",
        "model_regression.add(keras.layers.Dense(40, activation='relu'))\n",
        "model_regression.add(keras.layers.Dense(1, activation='linear'))\n",
        "# Compile model\n",
        "model_regression.compile(loss='mean_absolute_error', optimizer='adam', metrics=['mean_squared_error'])\n",
        "model_regression.summary()\n",
        "# fit model on the dataset\n",
        "history_regression = model_regression.fit(x_train,y_train, epochs=500,verbose= False,validation_split=2/9)\n",
        "loss_regression, acc_regression = model_regression.evaluate(x_test,y_test, verbose = 2)"
      ],
      "execution_count": null,
      "outputs": [
        {
          "output_type": "stream",
          "text": [
            "Model: \"sequential_48\"\n",
            "_________________________________________________________________\n",
            "Layer (type)                 Output Shape              Param #   \n",
            "=================================================================\n",
            "dense_143 (Dense)            (None, 500)               45500     \n",
            "_________________________________________________________________\n",
            "dense_144 (Dense)            (None, 250)               125250    \n",
            "_________________________________________________________________\n",
            "dense_145 (Dense)            (None, 125)               31375     \n",
            "_________________________________________________________________\n",
            "dense_146 (Dense)            (None, 1)                 126       \n",
            "=================================================================\n",
            "Total params: 202,251\n",
            "Trainable params: 202,251\n",
            "Non-trainable params: 0\n",
            "_________________________________________________________________\n",
            "4/4 - 0s - loss: 6.6993 - mean_squared_error: 83.3077\n"
          ],
          "name": "stdout"
        }
      ]
    },
    {
      "cell_type": "markdown",
      "metadata": {
        "id": "GXBqge-j8odp"
      },
      "source": [
        "model 90-200-100-50-1"
      ]
    },
    {
      "cell_type": "code",
      "metadata": {
        "colab": {
          "base_uri": "https://localhost:8080/"
        },
        "id": "SiC7oGU-8odr",
        "outputId": "9a230a54-efe3-4944-9065-b86253d1c290"
      },
      "source": [
        "# create model\n",
        "model_regression = keras.models.Sequential()\n",
        "model_regression.add(keras.Input(shape=x_train.shape[1]))\n",
        "model_regression.add(keras.layers.Dense(200, activation='relu'))\n",
        "model_regression.add(keras.layers.Dense(100, activation='relu'))\n",
        "model_regression.add(keras.layers.Dense(50, activation='relu'))\n",
        "model_regression.add(keras.layers.Dense(1, activation='linear'))\n",
        "# Compile model\n",
        "model_regression.compile(loss='mean_absolute_error', optimizer='adam', metrics=['mean_squared_error'])\n",
        "model_regression.summary()\n",
        "# fit model on the dataset\n",
        "history_regression = model_regression.fit(x_train,y_train, epochs=500,verbose= False,validation_split=2/9)\n",
        "loss_regression, acc_regression = model_regression.evaluate(x_test,y_test, verbose = 2)"
      ],
      "execution_count": 164,
      "outputs": [
        {
          "output_type": "stream",
          "text": [
            "Model: \"sequential_56\"\n",
            "_________________________________________________________________\n",
            "Layer (type)                 Output Shape              Param #   \n",
            "=================================================================\n",
            "dense_171 (Dense)            (None, 200)               18200     \n",
            "_________________________________________________________________\n",
            "dense_172 (Dense)            (None, 100)               20100     \n",
            "_________________________________________________________________\n",
            "dense_173 (Dense)            (None, 50)                5050      \n",
            "_________________________________________________________________\n",
            "dense_174 (Dense)            (None, 1)                 51        \n",
            "=================================================================\n",
            "Total params: 43,401\n",
            "Trainable params: 43,401\n",
            "Non-trainable params: 0\n",
            "_________________________________________________________________\n",
            "4/4 - 0s - loss: 6.7064 - mean_squared_error: 81.8725\n"
          ],
          "name": "stdout"
        }
      ]
    },
    {
      "cell_type": "markdown",
      "metadata": {
        "id": "hO-LXy_G8ouh"
      },
      "source": [
        "model 90-60-30-15-1"
      ]
    },
    {
      "cell_type": "code",
      "metadata": {
        "colab": {
          "base_uri": "https://localhost:8080/"
        },
        "id": "x5cX9gSl8ouj",
        "outputId": "8b9e7a46-7298-4222-e37c-ffa4955b4b42"
      },
      "source": [
        "# create model\n",
        "model_regression = keras.models.Sequential()\n",
        "model_regression.add(keras.Input(shape=x_train.shape[1]))\n",
        "model_regression.add(keras.layers.Dense(60, activation='relu'))\n",
        "model_regression.add(keras.layers.Dense(30, activation='relu'))\n",
        "model_regression.add(keras.layers.Dense(15, activation='relu'))\n",
        "model_regression.add(keras.layers.Dense(1, activation='linear'))\n",
        "# Compile model\n",
        "model_regression.compile(loss='mean_absolute_error', optimizer='adam', metrics=['mean_squared_error'])\n",
        "model_regression.summary()\n",
        "# fit model on the dataset\n",
        "history_regression = model_regression.fit(x_train,y_train, epochs=500,verbose= False,validation_split=2/9)\n",
        "loss_regression, acc_regression = model_regression.evaluate(x_test,y_test, verbose = 2)"
      ],
      "execution_count": 165,
      "outputs": [
        {
          "output_type": "stream",
          "text": [
            "Model: \"sequential_57\"\n",
            "_________________________________________________________________\n",
            "Layer (type)                 Output Shape              Param #   \n",
            "=================================================================\n",
            "dense_175 (Dense)            (None, 60)                5460      \n",
            "_________________________________________________________________\n",
            "dense_176 (Dense)            (None, 30)                1830      \n",
            "_________________________________________________________________\n",
            "dense_177 (Dense)            (None, 15)                465       \n",
            "_________________________________________________________________\n",
            "dense_178 (Dense)            (None, 1)                 16        \n",
            "=================================================================\n",
            "Total params: 7,771\n",
            "Trainable params: 7,771\n",
            "Non-trainable params: 0\n",
            "_________________________________________________________________\n",
            "4/4 - 0s - loss: 6.9577 - mean_squared_error: 91.6627\n"
          ],
          "name": "stdout"
        }
      ]
    },
    {
      "cell_type": "markdown",
      "metadata": {
        "id": "to3kITn4sOCQ"
      },
      "source": [
        "# plot best result"
      ]
    },
    {
      "cell_type": "code",
      "metadata": {
        "colab": {
          "base_uri": "https://localhost:8080/",
          "height": 868
        },
        "id": "7guh0IDfsQRp",
        "outputId": "04d3a887-875b-44c3-f554-25c5e6e0e97a"
      },
      "source": [
        "# create model\n",
        "model_regression = keras.models.Sequential()\n",
        "model_regression.add(keras.Input(shape=x_train.shape[1]))\n",
        "model_regression.add(keras.layers.Dense(200, activation='relu'))\n",
        "model_regression.add(keras.layers.Dense(100, activation='relu'))\n",
        "model_regression.add(keras.layers.Dense(50, activation='relu'))\n",
        "model_regression.add(keras.layers.Dense(1, activation='linear'))\n",
        "# Compile model\n",
        "model_regression.compile(loss='mean_absolute_error', optimizer='adam', metrics=['mean_squared_error'])\n",
        "model_regression.summary()\n",
        "# fit model on the dataset\n",
        "history_regression = model_regression.fit(x_train,y_train, epochs=200,verbose= False,validation_split=2/9)\n",
        "loss_regression, acc_regression = model_regression.evaluate(x_test,y_test, verbose = 2)\n",
        "# mean squere error\n",
        "plt.plot(history_regression.history['mean_squared_error'])\n",
        "plt.plot(history_regression.history['val_mean_squared_error'])\n",
        "plt.title('mean_squared_error')\n",
        "plt.ylabel('mse')\n",
        "plt.xlabel('epoch')\n",
        "plt.legend(['train', 'test'], loc='best')\n",
        "plt.show()\n",
        "# loss\n",
        "plt.plot(history_regression.history['loss'])\n",
        "plt.plot(history_regression.history['val_loss'])\n",
        "plt.title('loss')\n",
        "plt.ylabel('loss')\n",
        "plt.xlabel('epoch')\n",
        "plt.legend(['train', 'val'], loc='best')\n",
        "plt.show()"
      ],
      "execution_count": 167,
      "outputs": [
        {
          "output_type": "stream",
          "text": [
            "Model: \"sequential_59\"\n",
            "_________________________________________________________________\n",
            "Layer (type)                 Output Shape              Param #   \n",
            "=================================================================\n",
            "dense_183 (Dense)            (None, 200)               18200     \n",
            "_________________________________________________________________\n",
            "dense_184 (Dense)            (None, 100)               20100     \n",
            "_________________________________________________________________\n",
            "dense_185 (Dense)            (None, 50)                5050      \n",
            "_________________________________________________________________\n",
            "dense_186 (Dense)            (None, 1)                 51        \n",
            "=================================================================\n",
            "Total params: 43,401\n",
            "Trainable params: 43,401\n",
            "Non-trainable params: 0\n",
            "_________________________________________________________________\n",
            "4/4 - 0s - loss: 6.9277 - mean_squared_error: 92.2689\n"
          ],
          "name": "stdout"
        },
        {
          "output_type": "display_data",
          "data": {
            "image/png": "[encoded data removed]",
            "text/plain": [
              "<Figure size 432x288 with 1 Axes>"
            ]
          },
          "metadata": {
            "tags": [],
            "needs_background": "light"
          }
        },
        {
          "output_type": "display_data",
          "data": {
            "image/png": "[encoded data removed]",
            "text/plain": [
              "<Figure size 432x288 with 1 Axes>"
            ]
          },
          "metadata": {
            "tags": [],
            "needs_background": "light"
          }
        }
      ]
    },
    {
      "cell_type": "markdown",
      "metadata": {
        "id": "__sHnnMPBEiJ"
      },
      "source": [
        "# **Comparison**"
      ]
    },
    {
      "cell_type": "markdown",
      "metadata": {
        "id": "m3wAXlA8BXam"
      },
      "source": [
        "use all data for training and testing"
      ]
    },
    {
      "cell_type": "code",
      "metadata": {
        "colab": {
          "base_uri": "https://localhost:8080/"
        },
        "id": "z5ClJUyRBHJ4",
        "outputId": "3188a46a-2a6d-4138-94a0-42043a865fdb"
      },
      "source": [
        "temp_set = Processed_set\n",
        "train_validate, test = np.split(temp_set, [int(.9*len(temp_set))])\n",
        "print(len(train_validate),len(test))\n",
        "num_clasess = len(np.unique(np.array(Processed_set)[:,0]))\n",
        "x_train = train_validate[:,1:]\n",
        "y_train = train_validate[:,0]\n",
        "x_test = test[:,1:]\n",
        "y_test = test[:,0]"
      ],
      "execution_count": 5,
      "outputs": [
        {
          "output_type": "stream",
          "text": [
            "463810 51535\n"
          ],
          "name": "stdout"
        }
      ]
    },
    {
      "cell_type": "markdown",
      "metadata": {
        "id": "xE1ydqS4Bh1Z"
      },
      "source": [
        "best classification result "
      ]
    },
    {
      "cell_type": "code",
      "metadata": {
        "colab": {
          "base_uri": "https://localhost:8080/"
        },
        "id": "rlQK-LvxjrDP",
        "outputId": "b5e0c8df-9abe-4f72-8a13-8a1ca36e1ba8"
      },
      "source": [
        "# create model \n",
        "model_classification = keras.models.Sequential()\n",
        "model_classification.add(keras.Input(shape=x_train.shape[1]))\n",
        "model_classification.add(keras.layers.Dense(250, activation='relu'))\n",
        "model_classification.add(keras.layers.Dense(125, activation='relu'))\n",
        "model_classification.add(keras.layers.Dense(num_clasess, activation='softmax'))\n",
        "# Compile model\n",
        "model_classification.compile(loss='sparse_categorical_crossentropy', optimizer='adam', metrics=['mean_squared_error','accuracy'])\n",
        "model_classification.summary()\n",
        "# fit model on the dataset"
      ],
      "execution_count": 12,
      "outputs": [
        {
          "output_type": "stream",
          "text": [
            "Model: \"sequential_1\"\n",
            "_________________________________________________________________\n",
            "Layer (type)                 Output Shape              Param #   \n",
            "=================================================================\n",
            "dense_3 (Dense)              (None, 250)               22750     \n",
            "_________________________________________________________________\n",
            "dense_4 (Dense)              (None, 125)               31375     \n",
            "_________________________________________________________________\n",
            "dense_5 (Dense)              (None, 89)                11214     \n",
            "=================================================================\n",
            "Total params: 65,339\n",
            "Trainable params: 65,339\n",
            "Non-trainable params: 0\n",
            "_________________________________________________________________\n"
          ],
          "name": "stdout"
        }
      ]
    },
    {
      "cell_type": "code",
      "metadata": {
        "colab": {
          "base_uri": "https://localhost:8080/"
        },
        "id": "-BXhd8e6BomA",
        "outputId": "d3b2d05c-c857-4f5c-aa64-8907c0886218"
      },
      "source": [
        "history_classification = model_classification.fit(x_train,y_train,verbose=False, epochs=200,validation_split=2/9)\n",
        "loss_classification , acc_classification, *is_anything_else_being_returned = model_classification.evaluate(x_test,y_test, verbose = 2)\n",
        "\n"
      ],
      "execution_count": 11,
      "outputs": [
        {
          "output_type": "stream",
          "text": [
            "1611/1611 - 1s - loss: 3.1350 - mean_squared_error: 5803.6841 - accuracy: 0.0909\n"
          ],
          "name": "stdout"
        }
      ]
    },
    {
      "cell_type": "markdown",
      "metadata": {
        "id": "X2xLR1sSCFvL"
      },
      "source": [
        "best regression result"
      ]
    },
    {
      "cell_type": "code",
      "metadata": {
        "colab": {
          "base_uri": "https://localhost:8080/"
        },
        "id": "qzQW4qI3CEwB",
        "outputId": "40e6a9e1-a965-40c7-e003-9584c82aa66a"
      },
      "source": [
        "# create model\n",
        "model_regression = keras.models.Sequential()\n",
        "model_regression.add(keras.Input(shape=x_train.shape[1]))\n",
        "model_regression.add(keras.layers.Dense(200, activation='relu'))\n",
        "model_regression.add(keras.layers.Dense(100, activation='relu'))\n",
        "model_regression.add(keras.layers.Dense(50, activation='relu'))\n",
        "model_regression.add(keras.layers.Dense(1, activation='linear'))\n",
        "# Compile model\n",
        "model_regression.compile(loss='mean_absolute_error', optimizer='adam', metrics=['mean_squared_error','accuracy'])\n",
        "model_regression.summary()\n",
        "# fit model on the dataset\n",
        "history_regression = model_regression.fit(x_train,y_train, epochs=200,verbose= False,validation_split=2/9)\n",
        "loss_regression, acc_regression, *is_anything_else_being_returned = model_regression.evaluate(x_test,y_test, verbose = 2)\n"
      ],
      "execution_count": 13,
      "outputs": [
        {
          "output_type": "stream",
          "text": [
            "Model: \"sequential_2\"\n",
            "_________________________________________________________________\n",
            "Layer (type)                 Output Shape              Param #   \n",
            "=================================================================\n",
            "dense_6 (Dense)              (None, 200)               18200     \n",
            "_________________________________________________________________\n",
            "dense_7 (Dense)              (None, 100)               20100     \n",
            "_________________________________________________________________\n",
            "dense_8 (Dense)              (None, 50)                5050      \n",
            "_________________________________________________________________\n",
            "dense_9 (Dense)              (None, 1)                 51        \n",
            "=================================================================\n",
            "Total params: 43,401\n",
            "Trainable params: 43,401\n",
            "Non-trainable params: 0\n",
            "_________________________________________________________________\n",
            "1611/1611 - 1s - loss: 5.9139 - mean_squared_error: 86.9185 - accuracy: 0.0000e+00\n"
          ],
          "name": "stdout"
        }
      ]
    },
    {
      "cell_type": "markdown",
      "metadata": {
        "id": "-_5jPSlpCEZs"
      },
      "source": [
        "# plot final comparison plot"
      ]
    },
    {
      "cell_type": "code",
      "metadata": {
        "colab": {
          "base_uri": "https://localhost:8080/",
          "height": 851
        },
        "id": "SAzUQyt0CxLF",
        "outputId": "7020da48-a200-4623-d930-c1e2a69d882b"
      },
      "source": [
        "# mean squere error\n",
        "plt.plot(history_regression.history['mean_squared_error'])\n",
        "plt.plot(history_regression.history['val_mean_squared_error'])\n",
        "plt.plot(history_classification.history['mean_squared_error'])\n",
        "plt.plot(history_classification.history['val_mean_squared_error'])\n",
        "plt.title('mean_squared_error')\n",
        "plt.ylabel('mse')\n",
        "plt.xlabel('epoch')\n",
        "plt.legend(['train_regression', 'validation_regression','train_classification','validation_classification'], loc='best')\n",
        "plt.show()\n",
        "# loss\n",
        "plt.plot(history_regression.history['loss'])\n",
        "plt.plot(history_regression.history['val_loss'])\n",
        "plt.plot(history_classification.history['loss'])\n",
        "plt.plot(history_classification.history['val_loss'])\n",
        "plt.title('loss')\n",
        "plt.ylabel('loss')\n",
        "plt.xlabel('epoch')\n",
        "plt.legend(['train_regression', 'validation_regression','train_classification','validation_classification'], loc='best')\n",
        "plt.show()\n",
        "# accuracy\n",
        "plt.plot(history_regression.history['accuracy'])\n",
        "plt.plot(history_regression.history['val_accuracy'])\n",
        "plt.plot(history_classification.history['accuracy'])\n",
        "plt.plot(history_classification.history['val_accuracy'])\n",
        "plt.title('accuracy')\n",
        "plt.ylabel('accuracy')\n",
        "plt.xlabel('epoch')\n",
        "plt.legend(['train_regression', 'validation_regression','train_classification','validation_classification'], loc='best')\n",
        "plt.show()\n"
      ],
      "execution_count": 14,
      "outputs": [
        {
          "output_type": "display_data",
          "data": {
            "image/png": "[encoded data removed]",
            "text/plain": [
              "<Figure size 432x288 with 1 Axes>"
            ]
          },
          "metadata": {
            "tags": [],
            "needs_background": "light"
          }
        },
        {
          "output_type": "display_data",
          "data": {
            "image/png": "[encoded data removed]",
            "text/plain": [
              "<Figure size 432x288 with 1 Axes>"
            ]
          },
          "metadata": {
            "tags": [],
            "needs_background": "light"
          }
        },
        {
          "output_type": "display_data",
          "data": {
            "image/png": "[encoded data removed]",
            "text/plain": [
              "<Figure size 432x288 with 1 Axes>"
            ]
          },
          "metadata": {
            "tags": [],
            "needs_background": "light"
          }
        }
      ]
    },
    {
      "cell_type": "markdown",
      "metadata": {
        "id": "G1FSc7L-jVP5"
      },
      "source": [
        "#**Conclusion** :\n",
        "#It seems that Classification Network is work better than Regression on this dataset"
      ]
    },
    {
      "cell_type": "markdown",
      "metadata": {
        "id": "8JXAVyhDks8c"
      },
      "source": [
        "# New Section"
      ]
    }
  ]
}