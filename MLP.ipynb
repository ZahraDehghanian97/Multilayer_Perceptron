{
  "nbformat": 4,
  "nbformat_minor": 0,
  "metadata": {
    "colab": {
      "name": "MLP.ipynb",
      "provenance": [],
      "collapsed_sections": [],
      "mount_file_id": "181ULuJFxgwPY5M1x8n1Fe1JCsSBjse7e",
      "authorship_tag": "ABX9TyOi6Kp/LazUjnYbFD5GRmGI",
      "include_colab_link": true
    },
    "kernelspec": {
      "name": "python3",
      "display_name": "Python 3"
    },
    "language_info": {
      "name": "python"
    }
  },
  "cells": [
    {
      "cell_type": "markdown",
      "metadata": {
        "id": "view-in-github",
        "colab_type": "text"
      },
      "source": [
        "<a href=\"https://colab.research.google.com/github/zahraDehghanian97/Multilayer_Perceptron/blob/master/MLP.ipynb\" target=\"_parent\"><img src=\"https://colab.research.google.com/assets/colab-badge.svg\" alt=\"Open In Colab\"/></a>"
      ]
    },
    {
      "cell_type": "markdown",
      "metadata": {
        "id": "S7rC1g5pPR_f"
      },
      "source": [
        "# prerequisit"
      ]
    },
    {
      "cell_type": "code",
      "metadata": {
        "id": "O4Iw8mqLcrv7"
      },
      "source": [
        "try :\n",
        "  %tensorflow_version 2.x\n",
        "except:\n",
        "  pass\n",
        "import tensorflow as tf\n",
        "from tensorflow import keras\n",
        "import numpy as np\n",
        "from csv import reader\n",
        "import matplotlib.pyplot as plt\n",
        "import random\n",
        "from sklearn.metrics import confusion_matrix\n",
        "from sklearn import preprocessing\n",
        "from tensorflow.keras.utils import to_categorical\n"
      ],
      "execution_count": 1,
      "outputs": []
    },
    {
      "cell_type": "markdown",
      "metadata": {
        "id": "VIK3EJP3PPO2"
      },
      "source": [
        "## mount google drive"
      ]
    },
    {
      "cell_type": "code",
      "metadata": {
        "colab": {
          "base_uri": "https://localhost:8080/"
        },
        "id": "hUoq6FT3OGLq",
        "outputId": "d8db7a8a-9726-415a-f623-221873ef96f5"
      },
      "source": [
        "from google.colab import drive\n",
        "drive.mount('/content/drive')"
      ],
      "execution_count": null,
      "outputs": [
        {
          "output_type": "stream",
          "text": [
            "Go to this URL in a browser: https://accounts.google.com/o/oauth2/auth?client_id=947318989803-6bn6qk8qdgf4n4g3pfee6491hc0brc4i.apps.googleusercontent.com&redirect_uri=urn%3aietf%3awg%3aoauth%3a2.0%3aoob&scope=email%20https%3a%2f%2fwww.googleapis.com%2fauth%2fdocs.test%20https%3a%2f%2fwww.googleapis.com%2fauth%2fdrive%20https%3a%2f%2fwww.googleapis.com%2fauth%2fdrive.photos.readonly%20https%3a%2f%2fwww.googleapis.com%2fauth%2fpeopleapi.readonly%20https%3a%2f%2fwww.googleapis.com%2fauth%2fdrive.activity.readonly%20https%3a%2f%2fwww.googleapis.com%2fauth%2fexperimentsandconfigs%20https%3a%2f%2fwww.googleapis.com%2fauth%2fphotos.native&response_type=code\n",
            "\n",
            "Enter your authorization code:\n",
            "4/1AY0e-g71YkuzkjS6fFKZ2GywhViMSmKAK12ZwfQ2sCIEDVm4XBjuufcxdRU\n",
            "Mounted at /content/drive\n"
          ],
          "name": "stdout"
        }
      ]
    },
    {
      "cell_type": "markdown",
      "metadata": {
        "id": "geI2i3vvPMCS"
      },
      "source": [
        "# **make dataset ready**"
      ]
    },
    {
      "cell_type": "code",
      "metadata": {
        "id": "oI7xqsYyPK9f"
      },
      "source": [
        "def load_csv(filename):\n",
        "    dataset = list()\n",
        "    with open(filename, 'r') as file:\n",
        "        csv_reader = reader(file)\n",
        "        for row in csv_reader:\n",
        "            if not row:\n",
        "                continue\n",
        "            dataset.append(row)\n",
        "    return dataset\n",
        "\n",
        "def str_column_to_float(dataset, column):\n",
        "    for row in dataset:\n",
        "        row[column] = float(row[column].strip())\n",
        "\n",
        "filename = \"/content/drive/MyDrive/Colab Notebooks/YearPredictionMSD.txt\"\n",
        "dataset = load_csv(filename)\n",
        "for i in range(len(dataset[0])):\n",
        "    str_column_to_float(dataset, i)\n",
        "min_max_scaler = preprocessing.MinMaxScaler()\n",
        "y =preprocessing.LabelEncoder().fit_transform( np.array(dataset)[:,0])\n",
        "features= preprocessing.MinMaxScaler().fit_transform(np.array(dataset)[:,1:])\n",
        "Processed_set = []\n",
        "for i in range(len(y)):\n",
        "  temp =np.append( np.array(y[i]) , np.array(features[i]))\n",
        "  Processed_set.append(temp)\n",
        "np.random.shuffle(Processed_set)\n"
      ],
      "execution_count": 2,
      "outputs": []
    },
    {
      "cell_type": "code",
      "metadata": {
        "colab": {
          "base_uri": "https://localhost:8080/"
        },
        "id": "sc_6iGrIV4Ev",
        "outputId": "a40b327c-2986-42f7-c4f8-7dcc17fe06ab"
      },
      "source": [
        "temp_set = Processed_set[:1000]\n",
        "train_validate, test = np.split(temp_set, [int(.9*len(temp_set))])\n",
        "print(len(train_validate),len(test))\n",
        "num_clasess = len(np.unique(np.array(Processed_set)[:,0]))\n",
        "x_train = train_validate[:,1:]\n",
        "y_train = train_validate[:,0]\n",
        "x_test = test[:,1:]\n",
        "y_test = test[:,0]"
      ],
      "execution_count": null,
      "outputs": [
        {
          "output_type": "stream",
          "text": [
            "900 100\n"
          ],
          "name": "stdout"
        }
      ]
    },
    {
      "cell_type": "markdown",
      "metadata": {
        "id": "iQWQKOxyNjpm"
      },
      "source": [
        "# **make Model Classification**"
      ]
    },
    {
      "cell_type": "markdown",
      "metadata": {
        "id": "KLR-dtzLl33j"
      },
      "source": [
        "# number of layers"
      ]
    },
    {
      "cell_type": "markdown",
      "metadata": {
        "id": "tukBhIp2jcB1"
      },
      "source": [
        "model 90-500-250-125-89"
      ]
    },
    {
      "cell_type": "code",
      "metadata": {
        "colab": {
          "base_uri": "https://localhost:8080/"
        },
        "id": "w7qcbHyPkvAU",
        "outputId": "1eb6c0af-f3dc-4981-d1da-0c971c08774a"
      },
      "source": [
        "# create model \n",
        "model_classification = keras.models.Sequential()\n",
        "model_classification.add(keras.Input(shape=x_train.shape[1]))\n",
        "model_classification.add(keras.layers.Dense(500, activation='relu'))\n",
        "model_classification.add(keras.layers.Dense(250, activation='relu'))\n",
        "model_classification.add(keras.layers.Dense(125, activation='relu'))\n",
        "model_classification.add(keras.layers.Dense(num_clasess, activation='softmax'))\n",
        "# Compile model\n",
        "model_classification.compile(loss='sparse_categorical_crossentropy', optimizer='adam', metrics=['accuracy'])\n",
        "model_classification.summary()\n",
        "# fit model on the dataset\n",
        "history_classification = model_classification.fit(x_train,y_train,verbose=False, epochs=200,validation_split=2/9)\n",
        "loss_classification, acc_classification = model_classification.evaluate(x_test,y_test, verbose = 2)"
      ],
      "execution_count": null,
      "outputs": [
        {
          "output_type": "stream",
          "text": [
            "Model: \"sequential_21\"\n",
            "_________________________________________________________________\n",
            "Layer (type)                 Output Shape              Param #   \n",
            "=================================================================\n",
            "dense_61 (Dense)             (None, 500)               45500     \n",
            "_________________________________________________________________\n",
            "dense_62 (Dense)             (None, 250)               125250    \n",
            "_________________________________________________________________\n",
            "dense_63 (Dense)             (None, 125)               31375     \n",
            "_________________________________________________________________\n",
            "dense_64 (Dense)             (None, 89)                11214     \n",
            "=================================================================\n",
            "Total params: 213,339\n",
            "Trainable params: 213,339\n",
            "Non-trainable params: 0\n",
            "_________________________________________________________________\n",
            "4/4 - 0s - loss: 4.0891 - accuracy: 0.0700\n"
          ],
          "name": "stdout"
        }
      ]
    },
    {
      "cell_type": "markdown",
      "metadata": {
        "id": "afHZLAfojpTh"
      },
      "source": [
        "*model* 90-250-125-89"
      ]
    },
    {
      "cell_type": "code",
      "metadata": {
        "colab": {
          "base_uri": "https://localhost:8080/"
        },
        "id": "curL5-IEjpTj",
        "outputId": "b8228322-0f72-4070-fb2f-9190cb292de1"
      },
      "source": [
        "# create model \n",
        "model_classification = keras.models.Sequential()\n",
        "model_classification.add(keras.Input(shape=x_train.shape[1]))\n",
        "model_classification.add(keras.layers.Dense(250, activation='relu'))\n",
        "model_classification.add(keras.layers.Dense(125, activation='relu'))\n",
        "model_classification.add(keras.layers.Dense(num_clasess, activation='softmax'))\n",
        "# Compile model\n",
        "model_classification.compile(loss='sparse_categorical_crossentropy', optimizer='adam', metrics=['accuracy'])\n",
        "model_classification.summary()\n",
        "# fit model on the dataset\n",
        "history_classification = model_classification.fit(x_train,y_train,verbose=False, epochs=200,validation_split=2/9)\n",
        "loss_classification, acc_classification = model_classification.evaluate(x_test,y_test, verbose = 2)"
      ],
      "execution_count": null,
      "outputs": [
        {
          "output_type": "stream",
          "text": [
            "Model: \"sequential_22\"\n",
            "_________________________________________________________________\n",
            "Layer (type)                 Output Shape              Param #   \n",
            "=================================================================\n",
            "dense_65 (Dense)             (None, 250)               22750     \n",
            "_________________________________________________________________\n",
            "dense_66 (Dense)             (None, 125)               31375     \n",
            "_________________________________________________________________\n",
            "dense_67 (Dense)             (None, 89)                11214     \n",
            "=================================================================\n",
            "Total params: 65,339\n",
            "Trainable params: 65,339\n",
            "Non-trainable params: 0\n",
            "_________________________________________________________________\n",
            "4/4 - 0s - loss: 3.5013 - accuracy: 0.0800\n"
          ],
          "name": "stdout"
        }
      ]
    },
    {
      "cell_type": "markdown",
      "metadata": {
        "id": "uDTMUZ7Cj2og"
      },
      "source": [
        "model 90-125-89"
      ]
    },
    {
      "cell_type": "code",
      "metadata": {
        "colab": {
          "base_uri": "https://localhost:8080/"
        },
        "id": "QP0L3OHQj2pG",
        "outputId": "df310bb6-37a6-426d-db1b-d3f03642af8f"
      },
      "source": [
        "# create model \n",
        "model_classification = keras.models.Sequential()\n",
        "model_classification.add(keras.Input(shape=x_train.shape[1]))\n",
        "model_classification.add(keras.layers.Dense(125, activation='relu'))\n",
        "model_classification.add(keras.layers.Dense(num_clasess, activation='softmax'))\n",
        "# Compile model\n",
        "model_classification.compile(loss='sparse_categorical_crossentropy', optimizer='adam', metrics=['accuracy'])\n",
        "model_classification.summary()\n",
        "# fit model on the dataset\n",
        "history_classification = model_classification.fit(x_train,y_train,verbose=False, epochs=200,validation_split=2/9)\n",
        "loss_classification, acc_classification = model_classification.evaluate(x_test,y_test, verbose = 2)"
      ],
      "execution_count": null,
      "outputs": [
        {
          "output_type": "stream",
          "text": [
            "Model: \"sequential_23\"\n",
            "_________________________________________________________________\n",
            "Layer (type)                 Output Shape              Param #   \n",
            "=================================================================\n",
            "dense_68 (Dense)             (None, 125)               11375     \n",
            "_________________________________________________________________\n",
            "dense_69 (Dense)             (None, 89)                11214     \n",
            "=================================================================\n",
            "Total params: 22,589\n",
            "Trainable params: 22,589\n",
            "Non-trainable params: 0\n",
            "_________________________________________________________________\n",
            "4/4 - 0s - loss: 3.5099 - accuracy: 0.0400\n"
          ],
          "name": "stdout"
        }
      ]
    },
    {
      "cell_type": "markdown",
      "metadata": {
        "id": "eHtgevanmAGD"
      },
      "source": [
        "# learning rate"
      ]
    },
    {
      "cell_type": "markdown",
      "metadata": {
        "id": "Dv0A7MiwmJRN"
      },
      "source": [
        "learning rate = 0.1"
      ]
    },
    {
      "cell_type": "code",
      "metadata": {
        "colab": {
          "base_uri": "https://localhost:8080/"
        },
        "id": "YiBj4FynmJRO",
        "outputId": "af5ccc89-ae8a-46ef-941e-77156bec2284"
      },
      "source": [
        "# create model \n",
        "model_classification = keras.models.Sequential()\n",
        "model_classification.add(keras.Input(shape=x_train.shape[1]))\n",
        "model_classification.add(keras.layers.Dense(250, activation='relu'))\n",
        "model_classification.add(keras.layers.Dense(125, activation='relu'))\n",
        "model_classification.add(keras.layers.Dense(num_clasess, activation='softmax'))\n",
        "# Compile model\n",
        "model_classification.compile(loss='sparse_categorical_crossentropy', optimizer=keras.optimizers.Adam(learning_rate=0.1), metrics=['accuracy'])\n",
        "# model_classification.summary()\n",
        "# fit model on the dataset\n",
        "history_classification = model_classification.fit(x_train,y_train,verbose=False, epochs=200,validation_split=2/9)\n",
        "loss_classification, acc_classification = model_classification.evaluate(x_test,y_test, verbose = 2)"
      ],
      "execution_count": null,
      "outputs": [
        {
          "output_type": "stream",
          "text": [
            "4/4 - 0s - loss: 3.5106 - accuracy: 0.0600\n"
          ],
          "name": "stdout"
        }
      ]
    },
    {
      "cell_type": "markdown",
      "metadata": {
        "id": "TdYoZNcimz8Q"
      },
      "source": [
        "learning rate = 0.01"
      ]
    },
    {
      "cell_type": "code",
      "metadata": {
        "colab": {
          "base_uri": "https://localhost:8080/"
        },
        "id": "BE_DWaJzmz8k",
        "outputId": "0f026051-7ded-43b8-d3ed-7886715efbdd"
      },
      "source": [
        "# create model \n",
        "model_classification = keras.models.Sequential()\n",
        "model_classification.add(keras.Input(shape=x_train.shape[1]))\n",
        "model_classification.add(keras.layers.Dense(250, activation='relu'))\n",
        "model_classification.add(keras.layers.Dense(125, activation='relu'))\n",
        "model_classification.add(keras.layers.Dense(num_clasess, activation='softmax'))\n",
        "# Compile model\n",
        "model_classification.compile(loss='sparse_categorical_crossentropy', optimizer=keras.optimizers.Adam(learning_rate=0.01), metrics=['accuracy'])\n",
        "# model_classification.summary()\n",
        "# fit model on the dataset\n",
        "history_classification = model_classification.fit(x_train,y_train,verbose=False, epochs=200,validation_split=2/9)\n",
        "loss_classification, acc_classification = model_classification.evaluate(x_test,y_test, verbose = 2)"
      ],
      "execution_count": null,
      "outputs": [
        {
          "output_type": "stream",
          "text": [
            "4/4 - 0s - loss: 3.4697 - accuracy: 0.0500\n"
          ],
          "name": "stdout"
        }
      ]
    },
    {
      "cell_type": "markdown",
      "metadata": {
        "id": "Lk_rvBYzm1p1"
      },
      "source": [
        "learning rate = 0.001"
      ]
    },
    {
      "cell_type": "code",
      "metadata": {
        "colab": {
          "base_uri": "https://localhost:8080/"
        },
        "id": "_543tZVpm1p2",
        "outputId": "ba4dc453-262a-4460-d71c-3dc6ce522d4c"
      },
      "source": [
        "# create model \n",
        "model_classification = keras.models.Sequential()\n",
        "model_classification.add(keras.Input(shape=x_train.shape[1]))\n",
        "model_classification.add(keras.layers.Dense(250, activation='relu'))\n",
        "model_classification.add(keras.layers.Dense(125, activation='relu'))\n",
        "model_classification.add(keras.layers.Dense(num_clasess, activation='softmax'))\n",
        "# Compile model\n",
        "model_classification.compile(loss='sparse_categorical_crossentropy', optimizer=keras.optimizers.Adam(learning_rate=0.001), metrics=['accuracy'])\n",
        "# model_classification.summary()\n",
        "# fit model on the dataset\n",
        "history_classification = model_classification.fit(x_train,y_train,verbose=False, epochs=200,validation_split=2/9)\n",
        "loss_classification, acc_classification = model_classification.evaluate(x_test,y_test, verbose = 2)"
      ],
      "execution_count": null,
      "outputs": [
        {
          "output_type": "stream",
          "text": [
            "4/4 - 0s - loss: 3.5908 - accuracy: 0.0700\n"
          ],
          "name": "stdout"
        }
      ]
    },
    {
      "cell_type": "markdown",
      "metadata": {
        "id": "Z1hNxovZqCVV"
      },
      "source": [
        "# number of neurons"
      ]
    },
    {
      "cell_type": "markdown",
      "metadata": {
        "id": "45sC07LLqcHh"
      },
      "source": [
        "model 90-300-150-89"
      ]
    },
    {
      "cell_type": "code",
      "metadata": {
        "colab": {
          "base_uri": "https://localhost:8080/"
        },
        "id": "Q1RhjId2qYDW",
        "outputId": "411590c1-06a8-4bf2-9bfb-1c9cc6f39e3e"
      },
      "source": [
        "# create model \n",
        "model_classification = keras.models.Sequential()\n",
        "model_classification.add(keras.Input(shape=x_train.shape[1]))\n",
        "model_classification.add(keras.layers.Dense(300, activation='relu'))\n",
        "model_classification.add(keras.layers.Dense(150, activation='relu'))\n",
        "model_classification.add(keras.layers.Dense(num_clasess, activation='softmax'))\n",
        "# Compile model\n",
        "model_classification.compile(loss='sparse_categorical_crossentropy', optimizer='adam', metrics=['accuracy'])\n",
        "model_classification.summary()\n",
        "# fit model on the dataset\n",
        "history_classification = model_classification.fit(x_train,y_train,verbose=False, epochs=200,validation_split=2/9)\n",
        "loss_classification, acc_classification = model_classification.evaluate(x_test,y_test, verbose = 2)"
      ],
      "execution_count": null,
      "outputs": [
        {
          "output_type": "stream",
          "text": [
            "Model: \"sequential_28\"\n",
            "_________________________________________________________________\n",
            "Layer (type)                 Output Shape              Param #   \n",
            "=================================================================\n",
            "dense_82 (Dense)             (None, 300)               27300     \n",
            "_________________________________________________________________\n",
            "dense_83 (Dense)             (None, 150)               45150     \n",
            "_________________________________________________________________\n",
            "dense_84 (Dense)             (None, 89)                13439     \n",
            "=================================================================\n",
            "Total params: 85,889\n",
            "Trainable params: 85,889\n",
            "Non-trainable params: 0\n",
            "_________________________________________________________________\n",
            "4/4 - 0s - loss: 3.6666 - accuracy: 0.0300\n"
          ],
          "name": "stdout"
        }
      ]
    },
    {
      "cell_type": "markdown",
      "metadata": {
        "id": "9BZ5Gf9vqpVv"
      },
      "source": [
        "model 90-500-250-89"
      ]
    },
    {
      "cell_type": "code",
      "metadata": {
        "colab": {
          "base_uri": "https://localhost:8080/"
        },
        "id": "TG_dYQHhqpWO",
        "outputId": "f5356ecb-e71f-4046-ffef-b52ec2af09e5"
      },
      "source": [
        "# create model \n",
        "model_classification = keras.models.Sequential()\n",
        "model_classification.add(keras.Input(shape=x_train.shape[1]))\n",
        "model_classification.add(keras.layers.Dense(500, activation='relu'))\n",
        "model_classification.add(keras.layers.Dense(250, activation='relu'))\n",
        "model_classification.add(keras.layers.Dense(num_clasess, activation='softmax'))\n",
        "# Compile model\n",
        "model_classification.compile(loss='sparse_categorical_crossentropy', optimizer='adam', metrics=['accuracy'])\n",
        "model_classification.summary()\n",
        "# fit model on the dataset\n",
        "history_classification = model_classification.fit(x_train,y_train,verbose=False, epochs=200,validation_split=2/9)\n",
        "loss_classification, acc_classification = model_classification.evaluate(x_test,y_test, verbose = 2)"
      ],
      "execution_count": null,
      "outputs": [
        {
          "output_type": "stream",
          "text": [
            "Model: \"sequential_29\"\n",
            "_________________________________________________________________\n",
            "Layer (type)                 Output Shape              Param #   \n",
            "=================================================================\n",
            "dense_85 (Dense)             (None, 500)               45500     \n",
            "_________________________________________________________________\n",
            "dense_86 (Dense)             (None, 250)               125250    \n",
            "_________________________________________________________________\n",
            "dense_87 (Dense)             (None, 89)                22339     \n",
            "=================================================================\n",
            "Total params: 193,089\n",
            "Trainable params: 193,089\n",
            "Non-trainable params: 0\n",
            "_________________________________________________________________\n",
            "4/4 - 0s - loss: 3.7679 - accuracy: 0.0500\n"
          ],
          "name": "stdout"
        }
      ]
    },
    {
      "cell_type": "markdown",
      "metadata": {
        "id": "XHS5G82CqrRn"
      },
      "source": [
        "model 90-200-100-89"
      ]
    },
    {
      "cell_type": "code",
      "metadata": {
        "colab": {
          "base_uri": "https://localhost:8080/"
        },
        "id": "EMjSn2_fqrRo",
        "outputId": "3bae4b0a-a277-4e9f-c3d8-1c7c78164beb"
      },
      "source": [
        "# create model \n",
        "model_classification = keras.models.Sequential()\n",
        "model_classification.add(keras.Input(shape=x_train.shape[1]))\n",
        "model_classification.add(keras.layers.Dense(200, activation='relu'))\n",
        "model_classification.add(keras.layers.Dense(100, activation='relu'))\n",
        "model_classification.add(keras.layers.Dense(num_clasess, activation='softmax'))\n",
        "# Compile model\n",
        "model_classification.compile(loss='sparse_categorical_crossentropy', optimizer='adam', metrics=['accuracy'])\n",
        "model_classification.summary()\n",
        "# fit model on the dataset\n",
        "history_classification = model_classification.fit(x_train,y_train,verbose=False, epochs=200,validation_split=2/9)\n",
        "loss_classification, acc_classification = model_classification.evaluate(x_test,y_test, verbose = 2)"
      ],
      "execution_count": null,
      "outputs": [
        {
          "output_type": "stream",
          "text": [
            "Model: \"sequential_30\"\n",
            "_________________________________________________________________\n",
            "Layer (type)                 Output Shape              Param #   \n",
            "=================================================================\n",
            "dense_88 (Dense)             (None, 200)               18200     \n",
            "_________________________________________________________________\n",
            "dense_89 (Dense)             (None, 100)               20100     \n",
            "_________________________________________________________________\n",
            "dense_90 (Dense)             (None, 89)                8989      \n",
            "=================================================================\n",
            "Total params: 47,289\n",
            "Trainable params: 47,289\n",
            "Non-trainable params: 0\n",
            "_________________________________________________________________\n",
            "4/4 - 0s - loss: 3.4708 - accuracy: 0.0500\n"
          ],
          "name": "stdout"
        }
      ]
    },
    {
      "cell_type": "markdown",
      "metadata": {
        "id": "DS6pRxe_j9Nl"
      },
      "source": [
        "# plot best result"
      ]
    },
    {
      "cell_type": "code",
      "metadata": {
        "colab": {
          "base_uri": "https://localhost:8080/",
          "height": 833
        },
        "id": "rzJDIi_rqRBa",
        "outputId": "59beb765-5aff-4cf2-f18c-4b5e190d6ffb"
      },
      "source": [
        "# create model \n",
        "model_classification = keras.models.Sequential()\n",
        "model_classification.add(keras.Input(shape=x_train.shape[1]))\n",
        "model_classification.add(keras.layers.Dense(250, activation='relu'))\n",
        "model_classification.add(keras.layers.Dense(125, activation='relu'))\n",
        "model_classification.add(keras.layers.Dense(num_clasess, activation='softmax'))\n",
        "# Compile model\n",
        "model_classification.compile(loss='sparse_categorical_crossentropy', optimizer='adam', metrics=['accuracy'])\n",
        "model_classification.summary()\n",
        "# fit model on the dataset\n",
        "history_classification = model_classification.fit(x_train,y_train,verbose=False, epochs=200,validation_split=2/9)\n",
        "loss_classification, acc_classification = model_classification.evaluate(x_test,y_test, verbose = 2)\n",
        "# plot model accuracy and loss \n",
        "plt.plot(history_classification.history['accuracy'])\n",
        "plt.plot(history_classification.history['val_accuracy'])\n",
        "plt.title('accuracy')\n",
        "plt.ylabel('accuracy')\n",
        "plt.xlabel('epoch')\n",
        "plt.legend(['train', 'test'], loc='best')\n",
        "plt.show()\n",
        "plt.plot(history_classification.history['loss'])\n",
        "plt.plot(history_classification.history['val_loss'])\n",
        "plt.title('loss')\n",
        "plt.ylabel('loss')\n",
        "plt.xlabel('epoch')\n",
        "plt.legend(['train', 'val'], loc='best')\n",
        "plt.show()"
      ],
      "execution_count": null,
      "outputs": [
        {
          "output_type": "stream",
          "text": [
            "Model: \"sequential_39\"\n",
            "_________________________________________________________________\n",
            "Layer (type)                 Output Shape              Param #   \n",
            "=================================================================\n",
            "dense_115 (Dense)            (None, 250)               22750     \n",
            "_________________________________________________________________\n",
            "dense_116 (Dense)            (None, 125)               31375     \n",
            "_________________________________________________________________\n",
            "dense_117 (Dense)            (None, 89)                11214     \n",
            "=================================================================\n",
            "Total params: 65,339\n",
            "Trainable params: 65,339\n",
            "Non-trainable params: 0\n",
            "_________________________________________________________________\n",
            "4/4 - 0s - loss: 3.6319 - accuracy: 0.0700\n"
          ],
          "name": "stdout"
        },
        {
          "output_type": "display_data",
          "data": {
            "image/png": "[encoded data removed]",
            "text/plain": [
              "<Figure size 432x288 with 1 Axes>"
            ]
          },
          "metadata": {
            "tags": [],
            "needs_background": "light"
          }
        },
        {
          "output_type": "display_data",
          "data": {
            "image/png": "[encoded data removed]",
            "text/plain": [
              "<Figure size 432x288 with 1 Axes>"
            ]
          },
          "metadata": {
            "tags": [],
            "needs_background": "light"
          }
        }
      ]
    },
    {
      "cell_type": "markdown",
      "metadata": {
        "id": "T0uqkcx6qRYX"
      },
      "source": [
        "# **make Model Regression**"
      ]
    },
    {
      "cell_type": "markdown",
      "metadata": {
        "id": "I3gg0h4p2wto"
      },
      "source": [
        "model 90-500-250-125-1"
      ]
    },
    {
      "cell_type": "code",
      "metadata": {
        "colab": {
          "base_uri": "https://localhost:8080/"
        },
        "id": "LVqun_RqqRYY",
        "outputId": "2aa32ce2-e136-4c37-dc15-8f41091ab7fa"
      },
      "source": [
        "# create model\n",
        "model_regression = keras.models.Sequential()\n",
        "model_regression.add(keras.Input(shape=x_train.shape[1]))\n",
        "model_regression.add(keras.layers.Dense(500, activation='relu'))\n",
        "model_regression.add(keras.layers.Dense(250, activation='relu'))\n",
        "model_regression.add(keras.layers.Dense(125, activation='relu'))\n",
        "model_regression.add(keras.layers.Dense(1, activation='linear'))\n",
        "# Compile model\n",
        "model_regression.compile(loss='mean_absolute_error', optimizer='adam', metrics=['mean_squared_error'])\n",
        "model_regression.summary()\n",
        "# fit model on the dataset\n",
        "history_regression = model_regression.fit(x_train,y_train, epochs=500,verbose= False,validation_split=2/9)\n",
        "loss_regression, acc_regression = model_regression.evaluate(x_test,y_test, verbose = 2)"
      ],
      "execution_count": null,
      "outputs": [
        {
          "output_type": "stream",
          "text": [
            "Model: \"sequential_48\"\n",
            "_________________________________________________________________\n",
            "Layer (type)                 Output Shape              Param #   \n",
            "=================================================================\n",
            "dense_143 (Dense)            (None, 500)               45500     \n",
            "_________________________________________________________________\n",
            "dense_144 (Dense)            (None, 250)               125250    \n",
            "_________________________________________________________________\n",
            "dense_145 (Dense)            (None, 125)               31375     \n",
            "_________________________________________________________________\n",
            "dense_146 (Dense)            (None, 1)                 126       \n",
            "=================================================================\n",
            "Total params: 202,251\n",
            "Trainable params: 202,251\n",
            "Non-trainable params: 0\n",
            "_________________________________________________________________\n",
            "4/4 - 0s - loss: 6.6993 - mean_squared_error: 83.3077\n"
          ],
          "name": "stdout"
        }
      ]
    },
    {
      "cell_type": "markdown",
      "metadata": {
        "id": "Hdk8lQwlqRYa"
      },
      "source": [
        "model 90-250-125-1"
      ]
    },
    {
      "cell_type": "code",
      "metadata": {
        "colab": {
          "base_uri": "https://localhost:8080/"
        },
        "id": "TlMoMdYG1Yws",
        "outputId": "2d1bc821-e487-40f0-feaf-108f6cb4949f"
      },
      "source": [
        "# create model\n",
        "model_regression = keras.models.Sequential()\n",
        "model_regression.add(keras.Input(shape=x_train.shape[1]))\n",
        "model_regression.add(keras.layers.Dense(250, activation='relu'))\n",
        "model_regression.add(keras.layers.Dense(125, activation='relu'))\n",
        "model_regression.add(keras.layers.Dense(1, activation='linear'))\n",
        "# Compile model\n",
        "model_regression.compile(loss='mean_absolute_error', optimizer='adam', metrics=['mean_squared_error'])\n",
        "model_regression.summary()\n",
        "# fit model on the dataset\n",
        "history_regression = model_regression.fit(x_train,y_train, epochs=500,verbose= False,validation_split=2/9)\n",
        "loss_regression, acc_regression = model_regression.evaluate(x_test,y_test, verbose = 2)"
      ],
      "execution_count": null,
      "outputs": [
        {
          "output_type": "stream",
          "text": [
            "Model: \"sequential_49\"\n",
            "_________________________________________________________________\n",
            "Layer (type)                 Output Shape              Param #   \n",
            "=================================================================\n",
            "dense_147 (Dense)            (None, 250)               22750     \n",
            "_________________________________________________________________\n",
            "dense_148 (Dense)            (None, 125)               31375     \n",
            "_________________________________________________________________\n",
            "dense_149 (Dense)            (None, 1)                 126       \n",
            "=================================================================\n",
            "Total params: 54,251\n",
            "Trainable params: 54,251\n",
            "Non-trainable params: 0\n",
            "_________________________________________________________________\n",
            "4/4 - 0s - loss: 6.7653 - mean_squared_error: 86.2693\n"
          ],
          "name": "stdout"
        }
      ]
    },
    {
      "cell_type": "markdown",
      "metadata": {
        "id": "CWLX91rs3Rgj"
      },
      "source": [
        "model 90-125-1"
      ]
    },
    {
      "cell_type": "code",
      "metadata": {
        "colab": {
          "base_uri": "https://localhost:8080/"
        },
        "id": "kL0wpuLJqRYb",
        "outputId": "78873534-0680-4c93-d886-9660c4492e0f"
      },
      "source": [
        "# create model\n",
        "model_regression = keras.models.Sequential()\n",
        "model_regression.add(keras.Input(shape=x_train.shape[1]))\n",
        "model_regression.add(keras.layers.Dense(125, activation='relu'))\n",
        "model_regression.add(keras.layers.Dense(1, activation='linear'))\n",
        "# Compile model\n",
        "model_regression.compile(loss='mean_absolute_error', optimizer='adam', metrics=['mean_squared_error'])\n",
        "model_regression.summary()\n",
        "# fit model on the dataset\n",
        "history_regression = model_regression.fit(x_train,y_train, epochs=500,verbose= False,validation_split=2/9)\n",
        "loss_regression, acc_regression = model_regression.evaluate(x_test,y_test, verbose = 2)"
      ],
      "execution_count": null,
      "outputs": [
        {
          "output_type": "stream",
          "text": [
            "Model: \"sequential_50\"\n",
            "_________________________________________________________________\n",
            "Layer (type)                 Output Shape              Param #   \n",
            "=================================================================\n",
            "dense_150 (Dense)            (None, 125)               11375     \n",
            "_________________________________________________________________\n",
            "dense_151 (Dense)            (None, 1)                 126       \n",
            "=================================================================\n",
            "Total params: 11,501\n",
            "Trainable params: 11,501\n",
            "Non-trainable params: 0\n",
            "_________________________________________________________________\n",
            "4/4 - 0s - loss: 7.1282 - mean_squared_error: 103.3775\n"
          ],
          "name": "stdout"
        }
      ]
    },
    {
      "cell_type": "markdown",
      "metadata": {
        "id": "8t584tnL7PkY"
      },
      "source": [
        "# learning rate"
      ]
    },
    {
      "cell_type": "markdown",
      "metadata": {
        "id": "4vKO98687ZCp"
      },
      "source": [
        "learning rate = 0.1"
      ]
    },
    {
      "cell_type": "code",
      "metadata": {
        "colab": {
          "base_uri": "https://localhost:8080/"
        },
        "id": "ZygDt9cq7ZCr",
        "outputId": "4f5d42a3-c2f5-482f-85e9-96ed14fbc33a"
      },
      "source": [
        "# create model\n",
        "model_regression = keras.models.Sequential()\n",
        "model_regression.add(keras.Input(shape=x_train.shape[1]))\n",
        "model_regression.add(keras.layers.Dense(500, activation='relu'))\n",
        "model_regression.add(keras.layers.Dense(250, activation='relu'))\n",
        "model_regression.add(keras.layers.Dense(125, activation='relu'))\n",
        "model_regression.add(keras.layers.Dense(1, activation='linear'))\n",
        "# Compile model\n",
        "model_regression.compile(loss='mean_absolute_error',optimizer=keras.optimizers.Adam(learning_rate=0.1), metrics=['mean_squared_error'])\n",
        "model_regression.summary()\n",
        "# fit model on the dataset\n",
        "history_regression = model_regression.fit(x_train,y_train, epochs=500,verbose= False,validation_split=2/9)\n",
        "loss_regression, acc_regression = model_regression.evaluate(x_test,y_test, verbose = 2)"
      ],
      "execution_count": null,
      "outputs": [
        {
          "output_type": "stream",
          "text": [
            "Model: \"sequential_52\"\n",
            "_________________________________________________________________\n",
            "Layer (type)                 Output Shape              Param #   \n",
            "=================================================================\n",
            "dense_155 (Dense)            (None, 500)               45500     \n",
            "_________________________________________________________________\n",
            "dense_156 (Dense)            (None, 250)               125250    \n",
            "_________________________________________________________________\n",
            "dense_157 (Dense)            (None, 125)               31375     \n",
            "_________________________________________________________________\n",
            "dense_158 (Dense)            (None, 1)                 126       \n",
            "=================================================================\n",
            "Total params: 202,251\n",
            "Trainable params: 202,251\n",
            "Non-trainable params: 0\n",
            "_________________________________________________________________\n",
            "4/4 - 0s - loss: 7.0448 - mean_squared_error: 102.8743\n"
          ],
          "name": "stdout"
        }
      ]
    },
    {
      "cell_type": "markdown",
      "metadata": {
        "id": "4iAMvmO27rbf"
      },
      "source": [
        "learning rate = 0.01"
      ]
    },
    {
      "cell_type": "code",
      "metadata": {
        "colab": {
          "base_uri": "https://localhost:8080/"
        },
        "id": "IGb7APg87rbp",
        "outputId": "648d7356-d9d8-4362-8344-f0c1202707cb"
      },
      "source": [
        "# create model\n",
        "model_regression = keras.models.Sequential()\n",
        "model_regression.add(keras.Input(shape=x_train.shape[1]))\n",
        "model_regression.add(keras.layers.Dense(500, activation='relu'))\n",
        "model_regression.add(keras.layers.Dense(250, activation='relu'))\n",
        "model_regression.add(keras.layers.Dense(125, activation='relu'))\n",
        "model_regression.add(keras.layers.Dense(1, activation='linear'))\n",
        "# Compile model\n",
        "model_regression.compile(loss='mean_absolute_error',optimizer=keras.optimizers.Adam(learning_rate=0.01), metrics=['mean_squared_error'])\n",
        "model_regression.summary()\n",
        "# fit model on the dataset\n",
        "history_regression = model_regression.fit(x_train,y_train, epochs=500,verbose= False,validation_split=2/9)\n",
        "loss_regression, acc_regression = model_regression.evaluate(x_test,y_test, verbose = 2)"
      ],
      "execution_count": null,
      "outputs": [
        {
          "output_type": "stream",
          "text": [
            "Model: \"sequential_53\"\n",
            "_________________________________________________________________\n",
            "Layer (type)                 Output Shape              Param #   \n",
            "=================================================================\n",
            "dense_159 (Dense)            (None, 500)               45500     \n",
            "_________________________________________________________________\n",
            "dense_160 (Dense)            (None, 250)               125250    \n",
            "_________________________________________________________________\n",
            "dense_161 (Dense)            (None, 125)               31375     \n",
            "_________________________________________________________________\n",
            "dense_162 (Dense)            (None, 1)                 126       \n",
            "=================================================================\n",
            "Total params: 202,251\n",
            "Trainable params: 202,251\n",
            "Non-trainable params: 0\n",
            "_________________________________________________________________\n",
            "4/4 - 0s - loss: 6.9329 - mean_squared_error: 92.9388\n"
          ],
          "name": "stdout"
        }
      ]
    },
    {
      "cell_type": "markdown",
      "metadata": {
        "id": "a-gk9so_7ta4"
      },
      "source": [
        "learning rate = 0.001"
      ]
    },
    {
      "cell_type": "code",
      "metadata": {
        "colab": {
          "base_uri": "https://localhost:8080/"
        },
        "id": "96jT_YyO7ta8",
        "outputId": "566788db-12ce-4c33-ff90-89cd5d7cd140"
      },
      "source": [
        "# create model\n",
        "model_regression = keras.models.Sequential()\n",
        "model_regression.add(keras.Input(shape=x_train.shape[1]))\n",
        "model_regression.add(keras.layers.Dense(500, activation='relu'))\n",
        "model_regression.add(keras.layers.Dense(250, activation='relu'))\n",
        "model_regression.add(keras.layers.Dense(125, activation='relu'))\n",
        "model_regression.add(keras.layers.Dense(1, activation='linear'))\n",
        "# Compile model\n",
        "model_regression.compile(loss='mean_absolute_error',optimizer=keras.optimizers.Adam(learning_rate=0.001), metrics=['mean_squared_error'])\n",
        "model_regression.summary()\n",
        "# fit model on the dataset\n",
        "history_regression = model_regression.fit(x_train,y_train, epochs=500,verbose= False,validation_split=2/9)\n",
        "loss_regression, acc_regression = model_regression.evaluate(x_test,y_test, verbose = 2)"
      ],
      "execution_count": null,
      "outputs": [
        {
          "output_type": "stream",
          "text": [
            "Model: \"sequential_54\"\n",
            "_________________________________________________________________\n",
            "Layer (type)                 Output Shape              Param #   \n",
            "=================================================================\n",
            "dense_163 (Dense)            (None, 500)               45500     \n",
            "_________________________________________________________________\n",
            "dense_164 (Dense)            (None, 250)               125250    \n",
            "_________________________________________________________________\n",
            "dense_165 (Dense)            (None, 125)               31375     \n",
            "_________________________________________________________________\n",
            "dense_166 (Dense)            (None, 1)                 126       \n",
            "=================================================================\n",
            "Total params: 202,251\n",
            "Trainable params: 202,251\n",
            "Non-trainable params: 0\n",
            "_________________________________________________________________\n",
            "4/4 - 0s - loss: 6.7801 - mean_squared_error: 88.3100\n"
          ],
          "name": "stdout"
        }
      ]
    },
    {
      "cell_type": "markdown",
      "metadata": {
        "id": "Tw9CQkmz8bNQ"
      },
      "source": [
        "learning rate = 0.0001"
      ]
    },
    {
      "cell_type": "code",
      "metadata": {
        "colab": {
          "base_uri": "https://localhost:8080/"
        },
        "id": "afmvu6HY8bNT",
        "outputId": "f28bc79d-3822-4ef9-cbfe-53f846226b39"
      },
      "source": [
        "# create model\n",
        "model_regression = keras.models.Sequential()\n",
        "model_regression.add(keras.Input(shape=x_train.shape[1]))\n",
        "model_regression.add(keras.layers.Dense(500, activation='relu'))\n",
        "model_regression.add(keras.layers.Dense(250, activation='relu'))\n",
        "model_regression.add(keras.layers.Dense(125, activation='relu'))\n",
        "model_regression.add(keras.layers.Dense(1, activation='linear'))\n",
        "# Compile model\n",
        "model_regression.compile(loss='mean_absolute_error',optimizer=keras.optimizers.Adam(learning_rate=0.0001), metrics=['mean_squared_error'])\n",
        "model_regression.summary()\n",
        "# fit model on the dataset\n",
        "history_regression = model_regression.fit(x_train,y_train, epochs=500,verbose= False,validation_split=2/9)\n",
        "loss_regression, acc_regression = model_regression.evaluate(x_test,y_test, verbose = 2)"
      ],
      "execution_count": null,
      "outputs": [
        {
          "output_type": "stream",
          "text": [
            "Model: \"sequential_55\"\n",
            "_________________________________________________________________\n",
            "Layer (type)                 Output Shape              Param #   \n",
            "=================================================================\n",
            "dense_167 (Dense)            (None, 500)               45500     \n",
            "_________________________________________________________________\n",
            "dense_168 (Dense)            (None, 250)               125250    \n",
            "_________________________________________________________________\n",
            "dense_169 (Dense)            (None, 125)               31375     \n",
            "_________________________________________________________________\n",
            "dense_170 (Dense)            (None, 1)                 126       \n",
            "=================================================================\n",
            "Total params: 202,251\n",
            "Trainable params: 202,251\n",
            "Non-trainable params: 0\n",
            "_________________________________________________________________\n",
            "4/4 - 0s - loss: 6.9521 - mean_squared_error: 85.9774\n"
          ],
          "name": "stdout"
        }
      ]
    },
    {
      "cell_type": "markdown",
      "metadata": {
        "id": "rB808Fv08O5m"
      },
      "source": [
        "# number of neurons"
      ]
    },
    {
      "cell_type": "markdown",
      "metadata": {
        "id": "rpGYG7VM8n3j"
      },
      "source": [
        "model 90-125-80-40-1"
      ]
    },
    {
      "cell_type": "code",
      "metadata": {
        "colab": {
          "base_uri": "https://localhost:8080/"
        },
        "id": "zS_poXcf8n3l",
        "outputId": "2aa32ce2-e136-4c37-dc15-8f41091ab7fa"
      },
      "source": [
        "# create model\n",
        "model_regression = keras.models.Sequential()\n",
        "model_regression.add(keras.Input(shape=x_train.shape[1]))\n",
        "model_regression.add(keras.layers.Dense(125, activation='relu'))\n",
        "model_regression.add(keras.layers.Dense(80, activation='relu'))\n",
        "model_regression.add(keras.layers.Dense(40, activation='relu'))\n",
        "model_regression.add(keras.layers.Dense(1, activation='linear'))\n",
        "# Compile model\n",
        "model_regression.compile(loss='mean_absolute_error', optimizer='adam', metrics=['mean_squared_error'])\n",
        "model_regression.summary()\n",
        "# fit model on the dataset\n",
        "history_regression = model_regression.fit(x_train,y_train, epochs=500,verbose= False,validation_split=2/9)\n",
        "loss_regression, acc_regression = model_regression.evaluate(x_test,y_test, verbose = 2)"
      ],
      "execution_count": null,
      "outputs": [
        {
          "output_type": "stream",
          "text": [
            "Model: \"sequential_48\"\n",
            "_________________________________________________________________\n",
            "Layer (type)                 Output Shape              Param #   \n",
            "=================================================================\n",
            "dense_143 (Dense)            (None, 500)               45500     \n",
            "_________________________________________________________________\n",
            "dense_144 (Dense)            (None, 250)               125250    \n",
            "_________________________________________________________________\n",
            "dense_145 (Dense)            (None, 125)               31375     \n",
            "_________________________________________________________________\n",
            "dense_146 (Dense)            (None, 1)                 126       \n",
            "=================================================================\n",
            "Total params: 202,251\n",
            "Trainable params: 202,251\n",
            "Non-trainable params: 0\n",
            "_________________________________________________________________\n",
            "4/4 - 0s - loss: 6.6993 - mean_squared_error: 83.3077\n"
          ],
          "name": "stdout"
        }
      ]
    },
    {
      "cell_type": "markdown",
      "metadata": {
        "id": "GXBqge-j8odp"
      },
      "source": [
        "model 90-200-100-50-1"
      ]
    },
    {
      "cell_type": "code",
      "metadata": {
        "colab": {
          "base_uri": "https://localhost:8080/"
        },
        "id": "SiC7oGU-8odr",
        "outputId": "9a230a54-efe3-4944-9065-b86253d1c290"
      },
      "source": [
        "# create model\n",
        "model_regression = keras.models.Sequential()\n",
        "model_regression.add(keras.Input(shape=x_train.shape[1]))\n",
        "model_regression.add(keras.layers.Dense(200, activation='relu'))\n",
        "model_regression.add(keras.layers.Dense(100, activation='relu'))\n",
        "model_regression.add(keras.layers.Dense(50, activation='relu'))\n",
        "model_regression.add(keras.layers.Dense(1, activation='linear'))\n",
        "# Compile model\n",
        "model_regression.compile(loss='mean_absolute_error', optimizer='adam', metrics=['mean_squared_error'])\n",
        "model_regression.summary()\n",
        "# fit model on the dataset\n",
        "history_regression = model_regression.fit(x_train,y_train, epochs=500,verbose= False,validation_split=2/9)\n",
        "loss_regression, acc_regression = model_regression.evaluate(x_test,y_test, verbose = 2)"
      ],
      "execution_count": null,
      "outputs": [
        {
          "output_type": "stream",
          "text": [
            "Model: \"sequential_56\"\n",
            "_________________________________________________________________\n",
            "Layer (type)                 Output Shape              Param #   \n",
            "=================================================================\n",
            "dense_171 (Dense)            (None, 200)               18200     \n",
            "_________________________________________________________________\n",
            "dense_172 (Dense)            (None, 100)               20100     \n",
            "_________________________________________________________________\n",
            "dense_173 (Dense)            (None, 50)                5050      \n",
            "_________________________________________________________________\n",
            "dense_174 (Dense)            (None, 1)                 51        \n",
            "=================================================================\n",
            "Total params: 43,401\n",
            "Trainable params: 43,401\n",
            "Non-trainable params: 0\n",
            "_________________________________________________________________\n",
            "4/4 - 0s - loss: 6.7064 - mean_squared_error: 81.8725\n"
          ],
          "name": "stdout"
        }
      ]
    },
    {
      "cell_type": "markdown",
      "metadata": {
        "id": "hO-LXy_G8ouh"
      },
      "source": [
        "model 90-60-30-15-1"
      ]
    },
    {
      "cell_type": "code",
      "metadata": {
        "colab": {
          "base_uri": "https://localhost:8080/"
        },
        "id": "x5cX9gSl8ouj",
        "outputId": "8b9e7a46-7298-4222-e37c-ffa4955b4b42"
      },
      "source": [
        "# create model\n",
        "model_regression = keras.models.Sequential()\n",
        "model_regression.add(keras.Input(shape=x_train.shape[1]))\n",
        "model_regression.add(keras.layers.Dense(60, activation='relu'))\n",
        "model_regression.add(keras.layers.Dense(30, activation='relu'))\n",
        "model_regression.add(keras.layers.Dense(15, activation='relu'))\n",
        "model_regression.add(keras.layers.Dense(1, activation='linear'))\n",
        "# Compile model\n",
        "model_regression.compile(loss='mean_absolute_error', optimizer='adam', metrics=['mean_squared_error'])\n",
        "model_regression.summary()\n",
        "# fit model on the dataset\n",
        "history_regression = model_regression.fit(x_train,y_train, epochs=500,verbose= False,validation_split=2/9)\n",
        "loss_regression, acc_regression = model_regression.evaluate(x_test,y_test, verbose = 2)"
      ],
      "execution_count": null,
      "outputs": [
        {
          "output_type": "stream",
          "text": [
            "Model: \"sequential_57\"\n",
            "_________________________________________________________________\n",
            "Layer (type)                 Output Shape              Param #   \n",
            "=================================================================\n",
            "dense_175 (Dense)            (None, 60)                5460      \n",
            "_________________________________________________________________\n",
            "dense_176 (Dense)            (None, 30)                1830      \n",
            "_________________________________________________________________\n",
            "dense_177 (Dense)            (None, 15)                465       \n",
            "_________________________________________________________________\n",
            "dense_178 (Dense)            (None, 1)                 16        \n",
            "=================================================================\n",
            "Total params: 7,771\n",
            "Trainable params: 7,771\n",
            "Non-trainable params: 0\n",
            "_________________________________________________________________\n",
            "4/4 - 0s - loss: 6.9577 - mean_squared_error: 91.6627\n"
          ],
          "name": "stdout"
        }
      ]
    },
    {
      "cell_type": "markdown",
      "metadata": {
        "id": "to3kITn4sOCQ"
      },
      "source": [
        "# plot best result"
      ]
    },
    {
      "cell_type": "code",
      "metadata": {
        "colab": {
          "base_uri": "https://localhost:8080/",
          "height": 868
        },
        "id": "7guh0IDfsQRp",
        "outputId": "04d3a887-875b-44c3-f554-25c5e6e0e97a"
      },
      "source": [
        "# create model\n",
        "model_regression = keras.models.Sequential()\n",
        "model_regression.add(keras.Input(shape=x_train.shape[1]))\n",
        "model_regression.add(keras.layers.Dense(200, activation='relu'))\n",
        "model_regression.add(keras.layers.Dense(100, activation='relu'))\n",
        "model_regression.add(keras.layers.Dense(50, activation='relu'))\n",
        "model_regression.add(keras.layers.Dense(1, activation='linear'))\n",
        "# Compile model\n",
        "model_regression.compile(loss='mean_absolute_error', optimizer='adam', metrics=['mean_squared_error'])\n",
        "model_regression.summary()\n",
        "# fit model on the dataset\n",
        "history_regression = model_regression.fit(x_train,y_train, epochs=200,verbose= False,validation_split=2/9)\n",
        "loss_regression, acc_regression = model_regression.evaluate(x_test,y_test, verbose = 2)\n",
        "# mean squere error\n",
        "plt.plot(history_regression.history['mean_squared_error'])\n",
        "plt.plot(history_regression.history['val_mean_squared_error'])\n",
        "plt.title('mean_squared_error')\n",
        "plt.ylabel('mse')\n",
        "plt.xlabel('epoch')\n",
        "plt.legend(['train', 'test'], loc='best')\n",
        "plt.show()\n",
        "# loss\n",
        "plt.plot(history_regression.history['loss'])\n",
        "plt.plot(history_regression.history['val_loss'])\n",
        "plt.title('loss')\n",
        "plt.ylabel('loss')\n",
        "plt.xlabel('epoch')\n",
        "plt.legend(['train', 'val'], loc='best')\n",
        "plt.show()"
      ],
      "execution_count": null,
      "outputs": [
        {
          "output_type": "stream",
          "text": [
            "Model: \"sequential_59\"\n",
            "_________________________________________________________________\n",
            "Layer (type)                 Output Shape              Param #   \n",
            "=================================================================\n",
            "dense_183 (Dense)            (None, 200)               18200     \n",
            "_________________________________________________________________\n",
            "dense_184 (Dense)            (None, 100)               20100     \n",
            "_________________________________________________________________\n",
            "dense_185 (Dense)            (None, 50)                5050      \n",
            "_________________________________________________________________\n",
            "dense_186 (Dense)            (None, 1)                 51        \n",
            "=================================================================\n",
            "Total params: 43,401\n",
            "Trainable params: 43,401\n",
            "Non-trainable params: 0\n",
            "_________________________________________________________________\n",
            "4/4 - 0s - loss: 6.9277 - mean_squared_error: 92.2689\n"
          ],
          "name": "stdout"
        },
        {
          "output_type": "display_data",
          "data": {
            "image/png": "[encoded data removed]",
            "text/plain": [
              "<Figure size 432x288 with 1 Axes>"
            ]
          },
          "metadata": {
            "tags": [],
            "needs_background": "light"
          }
        },
        {
          "output_type": "display_data",
          "data": {
            "image/png": "[encoded data removed]",
            "text/plain": [
              "<Figure size 432x288 with 1 Axes>"
            ]
          },
          "metadata": {
            "tags": [],
            "needs_background": "light"
          }
        }
      ]
    },
    {
      "cell_type": "markdown",
      "metadata": {
        "id": "__sHnnMPBEiJ"
      },
      "source": [
        "# **Comparison**"
      ]
    },
    {
      "cell_type": "markdown",
      "metadata": {
        "id": "m3wAXlA8BXam"
      },
      "source": [
        "use all data for training and testing"
      ]
    },
    {
      "cell_type": "code",
      "metadata": {
        "colab": {
          "base_uri": "https://localhost:8080/"
        },
        "id": "z5ClJUyRBHJ4",
        "outputId": "b74e976b-3c82-4141-efdd-139342c7aa08"
      },
      "source": [
        "temp_set = Processed_set\n",
        "train_validate, test = np.split(temp_set, [int(.9*len(temp_set))])\n",
        "print(len(train_validate),len(test))\n",
        "num_clasess = len(np.unique(np.array(Processed_set)[:,0]))\n",
        "x_train = train_validate[:,1:]\n",
        "y_train = train_validate[:,0]\n",
        "x_test = test[:,1:]\n",
        "y_test = test[:,0]"
      ],
      "execution_count": 3,
      "outputs": [
        {
          "output_type": "stream",
          "text": [
            "463810 51535\n"
          ],
          "name": "stdout"
        }
      ]
    },
    {
      "cell_type": "markdown",
      "metadata": {
        "id": "xE1ydqS4Bh1Z"
      },
      "source": [
        "best classification result "
      ]
    },
    {
      "cell_type": "code",
      "metadata": {
        "colab": {
          "base_uri": "https://localhost:8080/"
        },
        "id": "rlQK-LvxjrDP",
        "outputId": "2be7fe61-a477-4155-cff4-ca1f0b16b72f"
      },
      "source": [
        "# # create model \n",
        "# model_classification = keras.models.Sequential()\n",
        "# model_classification.add(keras.Input(shape=x_train.shape[1]))\n",
        "# model_classification.add(keras.layers.Dense(250, activation='relu'))\n",
        "# model_classification.add(keras.layers.Dense(125, activation='relu'))\n",
        "# model_classification.add(keras.layers.Dense(num_clasess, activation='softmax'))\n",
        "# # Compile model\n",
        "# model_classification.compile(loss='sparse_categorical_crossentropy', optimizer='adam', metrics=['mean_squared_error','accuracy'])\n",
        "# history_classification = model_classification.fit(x_train,y_train,verbose=False, epochs=200,validation_split=2/9)\n",
        "# # save model\n",
        "# model_classification.save(\"/content/drive/MyDrive/Colab Notebooks/model_classification\")\n",
        "\n",
        "# load model\n",
        "model_classification = keras.models.load_model(\"/content/drive/MyDrive/Colab Notebooks/model_classification\")\n",
        "\n",
        "model_classification.summary()\n",
        "loss_classification , acc_classification, *is_anything_else_being_returned = model_classification.evaluate(x_test,y_test, verbose = 2)\n",
        "\n",
        "\n"
      ],
      "execution_count": 4,
      "outputs": [
        {
          "output_type": "stream",
          "text": [
            "Model: \"sequential\"\n",
            "_________________________________________________________________\n",
            "Layer (type)                 Output Shape              Param #   \n",
            "=================================================================\n",
            "dense (Dense)                (None, 250)               22750     \n",
            "_________________________________________________________________\n",
            "dense_1 (Dense)              (None, 125)               31375     \n",
            "_________________________________________________________________\n",
            "dense_2 (Dense)              (None, 89)                11214     \n",
            "=================================================================\n",
            "Total params: 65,339\n",
            "Trainable params: 65,339\n",
            "Non-trainable params: 0\n",
            "_________________________________________________________________\n"
          ],
          "name": "stdout"
        }
      ]
    },
    {
      "cell_type": "code",
      "metadata": {
        "id": "f4bC380Ua0r-"
      },
      "source": [
        ""
      ],
      "execution_count": null,
      "outputs": []
    },
    {
      "cell_type": "code",
      "metadata": {
        "colab": {
          "base_uri": "https://localhost:8080/"
        },
        "id": "-BXhd8e6BomA",
        "outputId": "8237ad8c-9e5e-4c35-9b30-130e983c6d5f"
      },
      "source": [
        "history_classification = model_classification.fit(x_train,y_train,verbose=False, epochs=200,validation_split=2/9)\n",
        "loss_classification , acc_classification, *is_anything_else_being_returned = model_classification.evaluate(x_test,y_test, verbose = 2)\n",
        "\n"
      ],
      "execution_count": 5,
      "outputs": [
        {
          "output_type": "stream",
          "text": [
            "1611/1611 - 1s - loss: 3.1318 - mean_squared_error: 5799.1353 - accuracy: 0.0904\n"
          ],
          "name": "stdout"
        }
      ]
    },
    {
      "cell_type": "code",
      "metadata": {
        "id": "bHFQZemFamB8"
      },
      "source": [
        ""
      ],
      "execution_count": null,
      "outputs": []
    },
    {
      "cell_type": "markdown",
      "metadata": {
        "id": "X2xLR1sSCFvL"
      },
      "source": [
        "best regression result"
      ]
    },
    {
      "cell_type": "code",
      "metadata": {
        "colab": {
          "base_uri": "https://localhost:8080/"
        },
        "id": "qzQW4qI3CEwB",
        "outputId": "1e693f19-3b87-4954-c84b-a0dc105557ec"
      },
      "source": [
        "# create model\n",
        "model_regression = keras.models.Sequential()\n",
        "model_regression.add(keras.Input(shape=x_train.shape[1]))\n",
        "model_regression.add(keras.layers.Dense(200, activation='relu'))\n",
        "model_regression.add(keras.layers.Dense(100, activation='relu'))\n",
        "model_regression.add(keras.layers.Dense(50, activation='relu'))\n",
        "model_regression.add(keras.layers.Dense(1, activation='linear'))\n",
        "# Compile model\n",
        "model_regression.compile(loss='mean_absolute_error', optimizer='adam', metrics=['mean_squared_error','accuracy'])\n",
        "model_regression.summary()\n",
        "# fit model on the dataset\n",
        "history_regression = model_regression.fit(x_train,y_train, epochs=200,verbose= False,validation_split=2/9)\n",
        "loss_regression, acc_regression, *is_anything_else_being_returned = model_regression.evaluate(x_test,y_test, verbose = 2)\n"
      ],
      "execution_count": 6,
      "outputs": [
        {
          "output_type": "stream",
          "text": [
            "Model: \"sequential_1\"\n",
            "_________________________________________________________________\n",
            "Layer (type)                 Output Shape              Param #   \n",
            "=================================================================\n",
            "dense_3 (Dense)              (None, 200)               18200     \n",
            "_________________________________________________________________\n",
            "dense_4 (Dense)              (None, 100)               20100     \n",
            "_________________________________________________________________\n",
            "dense_5 (Dense)              (None, 50)                5050      \n",
            "_________________________________________________________________\n",
            "dense_6 (Dense)              (None, 1)                 51        \n",
            "=================================================================\n",
            "Total params: 43,401\n",
            "Trainable params: 43,401\n",
            "Non-trainable params: 0\n",
            "_________________________________________________________________\n",
            "1611/1611 - 1s - loss: 5.9838 - mean_squared_error: 89.2423 - accuracy: 0.0000e+00\n"
          ],
          "name": "stdout"
        }
      ]
    },
    {
      "cell_type": "markdown",
      "metadata": {
        "id": "-_5jPSlpCEZs"
      },
      "source": [
        "# plot final comparison plot"
      ]
    },
    {
      "cell_type": "code",
      "metadata": {
        "colab": {
          "base_uri": "https://localhost:8080/",
          "height": 851
        },
        "id": "SAzUQyt0CxLF",
        "outputId": "d768b8be-8940-4d0c-c44c-20427b6b4347"
      },
      "source": [
        "# mean squere error\n",
        "plt.plot(history_regression.history['mean_squared_error'])\n",
        "plt.plot(history_regression.history['val_mean_squared_error'])\n",
        "plt.plot(history_classification.history['mean_squared_error'])\n",
        "plt.plot(history_classification.history['val_mean_squared_error'])\n",
        "plt.title('mean_squared_error')\n",
        "plt.ylabel('mse')\n",
        "plt.xlabel('epoch')\n",
        "plt.legend(['train_regression', 'validation_regression','train_classification','validation_classification'], loc='best')\n",
        "plt.show()\n",
        "# loss\n",
        "plt.plot(history_regression.history['loss'])\n",
        "plt.plot(history_regression.history['val_loss'])\n",
        "plt.plot(history_classification.history['loss'])\n",
        "plt.plot(history_classification.history['val_loss'])\n",
        "plt.title('loss')\n",
        "plt.ylabel('loss')\n",
        "plt.xlabel('epoch')\n",
        "plt.legend(['train_regression', 'validation_regression','train_classification','validation_classification'], loc='best')\n",
        "plt.show()\n",
        "# accuracy\n",
        "plt.plot(history_regression.history['accuracy'])\n",
        "plt.plot(history_regression.history['val_accuracy'])\n",
        "plt.plot(history_classification.history['accuracy'])\n",
        "plt.plot(history_classification.history['val_accuracy'])\n",
        "plt.title('accuracy')\n",
        "plt.ylabel('accuracy')\n",
        "plt.xlabel('epoch')\n",
        "plt.legend(['train_regression', 'validation_regression','train_classification','validation_classification'], loc='best')\n",
        "plt.show()\n"
      ],
      "execution_count": 7,
      "outputs": [
        {
          "output_type": "display_data",
          "data": {
            "image/png": "[encoded data removed]",
            "text/plain": [
              "<Figure size 432x288 with 1 Axes>"
            ]
          },
          "metadata": {
            "tags": [],
            "needs_background": "light"
          }
        },
        {
          "output_type": "display_data",
          "data": {
            "image/png": "[encoded data removed]",
            "text/plain": [
              "<Figure size 432x288 with 1 Axes>"
            ]
          },
          "metadata": {
            "tags": [],
            "needs_background": "light"
          }
        },
        {
          "output_type": "display_data",
          "data": {
            "image/png": "[encoded data removed]",
            "text/plain": [
              "<Figure size 432x288 with 1 Axes>"
            ]
          },
          "metadata": {
            "tags": [],
            "needs_background": "light"
          }
        }
      ]
    },
    {
      "cell_type": "markdown",
      "metadata": {
        "id": "G1FSc7L-jVP5"
      },
      "source": [
        "#**Conclusion** :\n",
        "#It seems that Classification Network is work better than Regression on this dataset"
      ]
    },
    {
      "cell_type": "code",
      "metadata": {
        "colab": {
          "base_uri": "https://localhost:8080/"
        },
        "id": "PZNKxuDoSRIv",
        "outputId": "90a6e38e-662e-4d96-cd1e-4e92448cff4b"
      },
      "source": [
        ""
      ],
      "execution_count": 8,
      "outputs": [
        {
          "output_type": "stream",
          "text": [
            "INFO:tensorflow:Assets written to: /content/drive/MyDrive/Colab Notebooks/model_classification/assets\n"
          ],
          "name": "stdout"
        }
      ]
    },
    {
      "cell_type": "code",
      "metadata": {
        "id": "UVkDVbb0aIvA"
      },
      "source": [
        ""
      ],
      "execution_count": null,
      "outputs": []
    },
    {
      "cell_type": "code",
      "metadata": {
        "colab": {
          "base_uri": "https://localhost:8080/"
        },
        "id": "bLp_8khsSuc4",
        "outputId": "903d2471-fff7-4c76-f0f3-60c4bbbe7b77"
      },
      "source": [
        "model_regression.save(\"/content/drive/MyDrive/Colab Notebooks/model_regression\")"
      ],
      "execution_count": 9,
      "outputs": [
        {
          "output_type": "stream",
          "text": [
            "INFO:tensorflow:Assets written to: /content/drive/MyDrive/Colab Notebooks/model_regression/assets\n"
          ],
          "name": "stdout"
        }
      ]
    },
    {
      "cell_type": "code",
      "metadata": {
        "id": "SB5hz_mETaZ9"
      },
      "source": [
        "model_classification = keras.models.load_model(\"/content/drive/MyDrive/Colab Notebooks/model_classification\")"
      ],
      "execution_count": 10,
      "outputs": []
    },
    {
      "cell_type": "code",
      "metadata": {
        "id": "TqtIB9fTaXaw"
      },
      "source": [
        ""
      ],
      "execution_count": null,
      "outputs": []
    },
    {
      "cell_type": "code",
      "metadata": {
        "id": "X3HHRL6UTpDQ"
      },
      "source": [
        "model_regression = keras.models.load_model(\"/content/drive/MyDrive/Colab Notebooks/model_regression\")"
      ],
      "execution_count": 11,
      "outputs": []
    },
    {
      "cell_type": "code",
      "metadata": {
        "id": "WERDLwXpXiCl"
      },
      "source": [
        ""
      ],
      "execution_count": null,
      "outputs": []
    },
    {
      "cell_type": "code",
      "metadata": {
        "id": "wpT79byeXwt7"
      },
      "source": [
        ""
      ],
      "execution_count": null,
      "outputs": []
    },
    {
      "cell_type": "code",
      "metadata": {
        "id": "9JtW23s5X_XR"
      },
      "source": [
        ""
      ],
      "execution_count": null,
      "outputs": []
    },
    {
      "cell_type": "code",
      "metadata": {
        "id": "GETZyfYpYOBP"
      },
      "source": [
        ""
      ],
      "execution_count": null,
      "outputs": []
    },
    {
      "cell_type": "code",
      "metadata": {
        "id": "u09QuCeeYcqN"
      },
      "source": [
        ""
      ],
      "execution_count": null,
      "outputs": []
    },
    {
      "cell_type": "code",
      "metadata": {
        "id": "c9xJdRYtYrTw"
      },
      "source": [
        ""
      ],
      "execution_count": null,
      "outputs": []
    },
    {
      "cell_type": "code",
      "metadata": {
        "id": "e5ZZFUK6ZDPg"
      },
      "source": [
        ""
      ],
      "execution_count": null,
      "outputs": []
    },
    {
      "cell_type": "code",
      "metadata": {
        "id": "Kcr5r6GjZR4f"
      },
      "source": [
        ""
      ],
      "execution_count": null,
      "outputs": []
    },
    {
      "cell_type": "code",
      "metadata": {
        "id": "N7wc7i9mZgiE"
      },
      "source": [
        ""
      ],
      "execution_count": null,
      "outputs": []
    },
    {
      "cell_type": "code",
      "metadata": {
        "id": "3zLSEUbmZvLg"
      },
      "source": [
        ""
      ],
      "execution_count": null,
      "outputs": []
    },
    {
      "cell_type": "code",
      "metadata": {
        "id": "dwdrrfS3Z91D"
      },
      "source": [
        ""
      ],
      "execution_count": null,
      "outputs": []
    },
    {
      "cell_type": "code",
      "metadata": {
        "id": "oLjSC29baMe0"
      },
      "source": [
        ""
      ],
      "execution_count": null,
      "outputs": []
    },
    {
      "cell_type": "code",
      "metadata": {
        "id": "CGfpD1s_abIJ"
      },
      "source": [
        ""
      ],
      "execution_count": null,
      "outputs": []
    },
    {
      "cell_type": "code",
      "metadata": {
        "id": "p5I1xMPeapxg"
      },
      "source": [
        ""
      ],
      "execution_count": null,
      "outputs": []
    },
    {
      "cell_type": "code",
      "metadata": {
        "id": "77QBHd5ea4a9"
      },
      "source": [
        ""
      ],
      "execution_count": null,
      "outputs": []
    },
    {
      "cell_type": "code",
      "metadata": {
        "id": "_xkbjwimbHEr"
      },
      "source": [
        ""
      ],
      "execution_count": null,
      "outputs": []
    },
    {
      "cell_type": "code",
      "metadata": {
        "id": "oyFIV_5QbVun"
      },
      "source": [
        ""
      ],
      "execution_count": null,
      "outputs": []
    },
    {
      "cell_type": "code",
      "metadata": {
        "id": "Pgkp33HVbkXk"
      },
      "source": [
        ""
      ],
      "execution_count": null,
      "outputs": []
    },
    {
      "cell_type": "code",
      "metadata": {
        "id": "eDa2Pcf0bzBG"
      },
      "source": [
        ""
      ],
      "execution_count": null,
      "outputs": []
    },
    {
      "cell_type": "code",
      "metadata": {
        "id": "nsYTHR8icBqt"
      },
      "source": [
        ""
      ],
      "execution_count": null,
      "outputs": []
    },
    {
      "cell_type": "code",
      "metadata": {
        "id": "4X16FQxNcQUF"
      },
      "source": [
        ""
      ],
      "execution_count": null,
      "outputs": []
    },
    {
      "cell_type": "code",
      "metadata": {
        "id": "78Yqfi_mce9q"
      },
      "source": [
        ""
      ],
      "execution_count": null,
      "outputs": []
    },
    {
      "cell_type": "code",
      "metadata": {
        "id": "qgoa6dVkckUe"
      },
      "source": [
        ""
      ],
      "execution_count": null,
      "outputs": []
    },
    {
      "cell_type": "code",
      "metadata": {
        "id": "dq7WbbVucy9D"
      },
      "source": [
        ""
      ],
      "execution_count": null,
      "outputs": []
    },
    {
      "cell_type": "code",
      "metadata": {
        "id": "SJPoLrPzdBms"
      },
      "source": [
        ""
      ],
      "execution_count": null,
      "outputs": []
    },
    {
      "cell_type": "code",
      "metadata": {
        "id": "-BXoUaQFdQQN"
      },
      "source": [
        ""
      ],
      "execution_count": null,
      "outputs": []
    },
    {
      "cell_type": "code",
      "metadata": {
        "id": "jiD6jY7Bde5l"
      },
      "source": [
        ""
      ],
      "execution_count": null,
      "outputs": []
    },
    {
      "cell_type": "code",
      "metadata": {
        "id": "83cpCaUHdtjQ"
      },
      "source": [
        ""
      ],
      "execution_count": null,
      "outputs": []
    },
    {
      "cell_type": "code",
      "metadata": {
        "id": "F3IfBec2d8Mj"
      },
      "source": [
        ""
      ],
      "execution_count": null,
      "outputs": []
    },
    {
      "cell_type": "code",
      "metadata": {
        "id": "egRFA1MseK2D"
      },
      "source": [
        ""
      ],
      "execution_count": null,
      "outputs": []
    },
    {
      "cell_type": "code",
      "metadata": {
        "id": "zWtFoG5feZf1"
      },
      "source": [
        ""
      ],
      "execution_count": null,
      "outputs": []
    },
    {
      "cell_type": "code",
      "metadata": {
        "id": "rxodr6xyeoJN"
      },
      "source": [
        ""
      ],
      "execution_count": null,
      "outputs": []
    },
    {
      "cell_type": "code",
      "metadata": {
        "id": "6Bw4WxXpe2yx"
      },
      "source": [
        ""
      ],
      "execution_count": null,
      "outputs": []
    },
    {
      "cell_type": "code",
      "metadata": {
        "id": "cG_AVRETfFcL"
      },
      "source": [
        ""
      ],
      "execution_count": null,
      "outputs": []
    },
    {
      "cell_type": "code",
      "metadata": {
        "id": "rh2y8MZ-fUFs"
      },
      "source": [
        ""
      ],
      "execution_count": null,
      "outputs": []
    },
    {
      "cell_type": "code",
      "metadata": {
        "id": "7I6UDsmSfivO"
      },
      "source": [
        ""
      ],
      "execution_count": null,
      "outputs": []
    },
    {
      "cell_type": "code",
      "metadata": {
        "id": "92Y0P3Z3fxYn"
      },
      "source": [
        ""
      ],
      "execution_count": null,
      "outputs": []
    },
    {
      "cell_type": "code",
      "metadata": {
        "id": "38hqK2m3gACD"
      },
      "source": [
        ""
      ],
      "execution_count": null,
      "outputs": []
    },
    {
      "cell_type": "code",
      "metadata": {
        "id": "AslP1_lPgOrl"
      },
      "source": [
        ""
      ],
      "execution_count": null,
      "outputs": []
    },
    {
      "cell_type": "code",
      "metadata": {
        "id": "f_fnIkgzgdVP"
      },
      "source": [
        ""
      ],
      "execution_count": null,
      "outputs": []
    },
    {
      "cell_type": "code",
      "metadata": {
        "id": "ETDPI6KGgr-k"
      },
      "source": [
        ""
      ],
      "execution_count": null,
      "outputs": []
    },
    {
      "cell_type": "code",
      "metadata": {
        "id": "BNRiLhKeg6oM"
      },
      "source": [
        ""
      ],
      "execution_count": null,
      "outputs": []
    },
    {
      "cell_type": "code",
      "metadata": {
        "id": "qZurUKCahJRs"
      },
      "source": [
        ""
      ],
      "execution_count": null,
      "outputs": []
    },
    {
      "cell_type": "code",
      "metadata": {
        "id": "T6ZBfhBjhX7I"
      },
      "source": [
        ""
      ],
      "execution_count": null,
      "outputs": []
    },
    {
      "cell_type": "code",
      "metadata": {
        "id": "IRHzos9phmkj"
      },
      "source": [
        ""
      ],
      "execution_count": null,
      "outputs": []
    },
    {
      "cell_type": "code",
      "metadata": {
        "id": "ZZ3UoQdMh1OF"
      },
      "source": [
        ""
      ],
      "execution_count": null,
      "outputs": []
    },
    {
      "cell_type": "code",
      "metadata": {
        "id": "IRL4pWjwiD3v"
      },
      "source": [
        ""
      ],
      "execution_count": null,
      "outputs": []
    },
    {
      "cell_type": "code",
      "metadata": {
        "id": "7L_MywYsiShG"
      },
      "source": [
        ""
      ],
      "execution_count": null,
      "outputs": []
    },
    {
      "cell_type": "code",
      "metadata": {
        "id": "5uE_6xmnihKm"
      },
      "source": [
        ""
      ],
      "execution_count": null,
      "outputs": []
    },
    {
      "cell_type": "code",
      "metadata": {
        "id": "oLzVtwqwiv0P"
      },
      "source": [
        ""
      ],
      "execution_count": null,
      "outputs": []
    },
    {
      "cell_type": "code",
      "metadata": {
        "id": "yvNIaXuGi-dj"
      },
      "source": [
        ""
      ],
      "execution_count": null,
      "outputs": []
    },
    {
      "cell_type": "code",
      "metadata": {
        "id": "CpZKS11SjNHD"
      },
      "source": [
        ""
      ],
      "execution_count": null,
      "outputs": []
    },
    {
      "cell_type": "code",
      "metadata": {
        "id": "Agw8Z3nfjbwj"
      },
      "source": [
        ""
      ],
      "execution_count": null,
      "outputs": []
    },
    {
      "cell_type": "code",
      "metadata": {
        "id": "Ej27BfajjqaL"
      },
      "source": [
        ""
      ],
      "execution_count": null,
      "outputs": []
    },
    {
      "cell_type": "code",
      "metadata": {
        "id": "m_E1kHLXj5Dk"
      },
      "source": [
        ""
      ],
      "execution_count": null,
      "outputs": []
    },
    {
      "cell_type": "code",
      "metadata": {
        "id": "kQ91oI-2kHtE"
      },
      "source": [
        ""
      ],
      "execution_count": null,
      "outputs": []
    },
    {
      "cell_type": "code",
      "metadata": {
        "id": "07sWHtNBkWWn"
      },
      "source": [
        ""
      ],
      "execution_count": null,
      "outputs": []
    },
    {
      "cell_type": "code",
      "metadata": {
        "id": "EDHwYEMqklAD"
      },
      "source": [
        ""
      ],
      "execution_count": null,
      "outputs": []
    },
    {
      "cell_type": "code",
      "metadata": {
        "id": "LhzoJJDwkzp5"
      },
      "source": [
        ""
      ],
      "execution_count": null,
      "outputs": []
    },
    {
      "cell_type": "code",
      "metadata": {
        "id": "LU1mouWalCTR"
      },
      "source": [
        ""
      ],
      "execution_count": null,
      "outputs": []
    },
    {
      "cell_type": "code",
      "metadata": {
        "id": "EscE8NTolQ8j"
      },
      "source": [
        ""
      ],
      "execution_count": null,
      "outputs": []
    },
    {
      "cell_type": "code",
      "metadata": {
        "id": "X-Bdq_uAlfmE"
      },
      "source": [
        ""
      ],
      "execution_count": null,
      "outputs": []
    },
    {
      "cell_type": "code",
      "metadata": {
        "id": "NyHHcJ9HluPm"
      },
      "source": [
        ""
      ],
      "execution_count": null,
      "outputs": []
    },
    {
      "cell_type": "code",
      "metadata": {
        "id": "YZYWrsYhl85L"
      },
      "source": [
        ""
      ],
      "execution_count": null,
      "outputs": []
    },
    {
      "cell_type": "code",
      "metadata": {
        "id": "soQjMMsPmLin"
      },
      "source": [
        ""
      ],
      "execution_count": null,
      "outputs": []
    },
    {
      "cell_type": "code",
      "metadata": {
        "id": "ak3QgvCcmaMH"
      },
      "source": [
        ""
      ],
      "execution_count": null,
      "outputs": []
    },
    {
      "cell_type": "code",
      "metadata": {
        "id": "qssPmpE_mo1h"
      },
      "source": [
        ""
      ],
      "execution_count": null,
      "outputs": []
    },
    {
      "cell_type": "code",
      "metadata": {
        "id": "DVKEonidm3fo"
      },
      "source": [
        ""
      ],
      "execution_count": null,
      "outputs": []
    },
    {
      "cell_type": "code",
      "metadata": {
        "id": "hHjZU6jjnGIj"
      },
      "source": [
        ""
      ],
      "execution_count": null,
      "outputs": []
    },
    {
      "cell_type": "code",
      "metadata": {
        "id": "52c7Ox0FnUyC"
      },
      "source": [
        ""
      ],
      "execution_count": null,
      "outputs": []
    },
    {
      "cell_type": "code",
      "metadata": {
        "id": "RdeBAG8onjby"
      },
      "source": [
        ""
      ],
      "execution_count": null,
      "outputs": []
    },
    {
      "cell_type": "code",
      "metadata": {
        "id": "wFRWqXzEnyFQ"
      },
      "source": [
        ""
      ],
      "execution_count": null,
      "outputs": []
    },
    {
      "cell_type": "code",
      "metadata": {
        "id": "wS0VqnVjoAuu"
      },
      "source": [
        ""
      ],
      "execution_count": null,
      "outputs": []
    },
    {
      "cell_type": "code",
      "metadata": {
        "id": "Nn9b21gWoPYI"
      },
      "source": [
        ""
      ],
      "execution_count": null,
      "outputs": []
    },
    {
      "cell_type": "code",
      "metadata": {
        "id": "2TDg05IIoeBj"
      },
      "source": [
        ""
      ],
      "execution_count": null,
      "outputs": []
    },
    {
      "cell_type": "code",
      "metadata": {
        "id": "RrVGz05sosrS"
      },
      "source": [
        ""
      ],
      "execution_count": null,
      "outputs": []
    },
    {
      "cell_type": "code",
      "metadata": {
        "id": "kfZIU69io7Ur"
      },
      "source": [
        ""
      ],
      "execution_count": null,
      "outputs": []
    },
    {
      "cell_type": "code",
      "metadata": {
        "id": "WkQaSw7VpJ-E"
      },
      "source": [
        ""
      ],
      "execution_count": null,
      "outputs": []
    },
    {
      "cell_type": "code",
      "metadata": {
        "id": "K8k_x8ZepYnm"
      },
      "source": [
        ""
      ],
      "execution_count": null,
      "outputs": []
    },
    {
      "cell_type": "code",
      "metadata": {
        "id": "6Ejrf953pnRE"
      },
      "source": [
        ""
      ],
      "execution_count": null,
      "outputs": []
    },
    {
      "cell_type": "code",
      "metadata": {
        "id": "BXSOvK5Np16t"
      },
      "source": [
        ""
      ],
      "execution_count": null,
      "outputs": []
    },
    {
      "cell_type": "code",
      "metadata": {
        "id": "oxEymviqqEkD"
      },
      "source": [
        ""
      ],
      "execution_count": null,
      "outputs": []
    },
    {
      "cell_type": "code",
      "metadata": {
        "id": "sLLCY2q7qTNp"
      },
      "source": [
        ""
      ],
      "execution_count": null,
      "outputs": []
    },
    {
      "cell_type": "code",
      "metadata": {
        "id": "A5Z20KZ5qh3S"
      },
      "source": [
        ""
      ],
      "execution_count": null,
      "outputs": []
    },
    {
      "cell_type": "code",
      "metadata": {
        "id": "nBIMyuIcqwgq"
      },
      "source": [
        ""
      ],
      "execution_count": null,
      "outputs": []
    },
    {
      "cell_type": "code",
      "metadata": {
        "id": "Qiu9edo7q_KK"
      },
      "source": [
        ""
      ],
      "execution_count": null,
      "outputs": []
    },
    {
      "cell_type": "code",
      "metadata": {
        "id": "2oZhKqaVrNzl"
      },
      "source": [
        ""
      ],
      "execution_count": null,
      "outputs": []
    },
    {
      "cell_type": "code",
      "metadata": {
        "id": "VShQzTTzrcdH"
      },
      "source": [
        ""
      ],
      "execution_count": null,
      "outputs": []
    },
    {
      "cell_type": "code",
      "metadata": {
        "id": "rxUAJwVPrrGt"
      },
      "source": [
        ""
      ],
      "execution_count": null,
      "outputs": []
    },
    {
      "cell_type": "code",
      "metadata": {
        "id": "GBAmB28Zr5wT"
      },
      "source": [
        ""
      ],
      "execution_count": null,
      "outputs": []
    },
    {
      "cell_type": "code",
      "metadata": {
        "id": "uyR7BQHssIZo"
      },
      "source": [
        ""
      ],
      "execution_count": null,
      "outputs": []
    },
    {
      "cell_type": "code",
      "metadata": {
        "id": "gHmXNi6jsXDE"
      },
      "source": [
        ""
      ],
      "execution_count": null,
      "outputs": []
    },
    {
      "cell_type": "code",
      "metadata": {
        "id": "hlN9P0sYslsk"
      },
      "source": [
        ""
      ],
      "execution_count": null,
      "outputs": []
    },
    {
      "cell_type": "code",
      "metadata": {
        "id": "AQVwj0sEs0WN"
      },
      "source": [
        ""
      ],
      "execution_count": null,
      "outputs": []
    },
    {
      "cell_type": "code",
      "metadata": {
        "id": "oJoYZX7utC_m"
      },
      "source": [
        ""
      ],
      "execution_count": null,
      "outputs": []
    },
    {
      "cell_type": "code",
      "metadata": {
        "id": "zD7KsPuxtRpS"
      },
      "source": [
        ""
      ],
      "execution_count": null,
      "outputs": []
    },
    {
      "cell_type": "code",
      "metadata": {
        "id": "Oz5mBoKhtgSk"
      },
      "source": [
        ""
      ],
      "execution_count": null,
      "outputs": []
    },
    {
      "cell_type": "code",
      "metadata": {
        "id": "_HvPuFKLtu8S"
      },
      "source": [
        ""
      ],
      "execution_count": null,
      "outputs": []
    },
    {
      "cell_type": "code",
      "metadata": {
        "id": "sPfWcEoSt9lk"
      },
      "source": [
        ""
      ],
      "execution_count": null,
      "outputs": []
    },
    {
      "cell_type": "code",
      "metadata": {
        "id": "hIaVx1BMuMPH"
      },
      "source": [
        ""
      ],
      "execution_count": null,
      "outputs": []
    },
    {
      "cell_type": "code",
      "metadata": {
        "id": "O9_Y7Snvua4r"
      },
      "source": [
        ""
      ],
      "execution_count": null,
      "outputs": []
    },
    {
      "cell_type": "code",
      "metadata": {
        "id": "gZ5jBrLQupiM"
      },
      "source": [
        ""
      ],
      "execution_count": null,
      "outputs": []
    },
    {
      "cell_type": "code",
      "metadata": {
        "id": "rAkpRNDQu4L5"
      },
      "source": [
        ""
      ],
      "execution_count": null,
      "outputs": []
    },
    {
      "cell_type": "code",
      "metadata": {
        "id": "WV45BHocvG1T"
      },
      "source": [
        ""
      ],
      "execution_count": null,
      "outputs": []
    },
    {
      "cell_type": "code",
      "metadata": {
        "id": "hRPo0B27vVel"
      },
      "source": [
        ""
      ],
      "execution_count": null,
      "outputs": []
    },
    {
      "cell_type": "code",
      "metadata": {
        "id": "YdjYpC5OvkIT"
      },
      "source": [
        ""
      ],
      "execution_count": null,
      "outputs": []
    },
    {
      "cell_type": "code",
      "metadata": {
        "id": "QWm6Islhvyxy"
      },
      "source": [
        ""
      ],
      "execution_count": null,
      "outputs": []
    },
    {
      "cell_type": "code",
      "metadata": {
        "id": "8-MeR67IwBbS"
      },
      "source": [
        ""
      ],
      "execution_count": null,
      "outputs": []
    },
    {
      "cell_type": "code",
      "metadata": {
        "id": "6eYlJLFiwQEl"
      },
      "source": [
        ""
      ],
      "execution_count": null,
      "outputs": []
    },
    {
      "cell_type": "code",
      "metadata": {
        "id": "dwWtb9WBweuS"
      },
      "source": [
        ""
      ],
      "execution_count": null,
      "outputs": []
    },
    {
      "cell_type": "code",
      "metadata": {
        "id": "BquVqzNewtXr"
      },
      "source": [
        ""
      ],
      "execution_count": null,
      "outputs": []
    },
    {
      "cell_type": "code",
      "metadata": {
        "id": "L9OGNr5Pw8BH"
      },
      "source": [
        ""
      ],
      "execution_count": null,
      "outputs": []
    },
    {
      "cell_type": "code",
      "metadata": {
        "id": "uZrwvlL9xKqk"
      },
      "source": [
        ""
      ],
      "execution_count": null,
      "outputs": []
    },
    {
      "cell_type": "code",
      "metadata": {
        "id": "9jqUcnzMxZUQ"
      },
      "source": [
        ""
      ],
      "execution_count": null,
      "outputs": []
    },
    {
      "cell_type": "code",
      "metadata": {
        "id": "7O4mn2KDxn9z"
      },
      "source": [
        ""
      ],
      "execution_count": null,
      "outputs": []
    },
    {
      "cell_type": "code",
      "metadata": {
        "id": "1dqJkHPsx2nQ"
      },
      "source": [
        ""
      ],
      "execution_count": null,
      "outputs": []
    },
    {
      "cell_type": "code",
      "metadata": {
        "id": "rKBoW4mqyFQx"
      },
      "source": [
        ""
      ],
      "execution_count": null,
      "outputs": []
    },
    {
      "cell_type": "code",
      "metadata": {
        "id": "mNrvJzp_yT6O"
      },
      "source": [
        ""
      ],
      "execution_count": null,
      "outputs": []
    },
    {
      "cell_type": "code",
      "metadata": {
        "id": "CV6ieOn8yiju"
      },
      "source": [
        ""
      ],
      "execution_count": null,
      "outputs": []
    },
    {
      "cell_type": "code",
      "metadata": {
        "id": "35l3ur0nyxNF"
      },
      "source": [
        ""
      ],
      "execution_count": null,
      "outputs": []
    },
    {
      "cell_type": "code",
      "metadata": {
        "id": "idP8Kul9y_2t"
      },
      "source": [
        ""
      ],
      "execution_count": null,
      "outputs": []
    },
    {
      "cell_type": "code",
      "metadata": {
        "id": "Lz8_gCb0zOgI"
      },
      "source": [
        ""
      ],
      "execution_count": null,
      "outputs": []
    },
    {
      "cell_type": "code",
      "metadata": {
        "id": "mjuNRj96zdJ7"
      },
      "source": [
        ""
      ],
      "execution_count": null,
      "outputs": []
    },
    {
      "cell_type": "code",
      "metadata": {
        "id": "gHdRoGpYzrzR"
      },
      "source": [
        ""
      ],
      "execution_count": null,
      "outputs": []
    },
    {
      "cell_type": "code",
      "metadata": {
        "id": "1aQ2pUwyz6co"
      },
      "source": [
        ""
      ],
      "execution_count": null,
      "outputs": []
    },
    {
      "cell_type": "code",
      "metadata": {
        "id": "IugGTYlR0JGD"
      },
      "source": [
        ""
      ],
      "execution_count": null,
      "outputs": []
    },
    {
      "cell_type": "code",
      "metadata": {
        "id": "t_s38yfs0Xvu"
      },
      "source": [
        ""
      ],
      "execution_count": null,
      "outputs": []
    },
    {
      "cell_type": "code",
      "metadata": {
        "id": "UC3mPo_d0mZQ"
      },
      "source": [
        ""
      ],
      "execution_count": null,
      "outputs": []
    },
    {
      "cell_type": "code",
      "metadata": {
        "id": "4EnzOfn601Cz"
      },
      "source": [
        ""
      ],
      "execution_count": null,
      "outputs": []
    },
    {
      "cell_type": "code",
      "metadata": {
        "id": "9-q0Q2rp1DsH"
      },
      "source": [
        ""
      ],
      "execution_count": null,
      "outputs": []
    },
    {
      "cell_type": "code",
      "metadata": {
        "id": "B7SZT5Lx1SV9"
      },
      "source": [
        ""
      ],
      "execution_count": null,
      "outputs": []
    },
    {
      "cell_type": "code",
      "metadata": {
        "id": "1fTRSkiv1g_H"
      },
      "source": [
        ""
      ],
      "execution_count": null,
      "outputs": []
    },
    {
      "cell_type": "code",
      "metadata": {
        "id": "b86_fbC71vo0"
      },
      "source": [
        ""
      ],
      "execution_count": null,
      "outputs": []
    },
    {
      "cell_type": "code",
      "metadata": {
        "id": "g9m9Hygr1-SK"
      },
      "source": [
        ""
      ],
      "execution_count": null,
      "outputs": []
    },
    {
      "cell_type": "code",
      "metadata": {
        "id": "czm3EXoX2M7m"
      },
      "source": [
        ""
      ],
      "execution_count": null,
      "outputs": []
    },
    {
      "cell_type": "code",
      "metadata": {
        "id": "7m_q_qBr2blK"
      },
      "source": [
        ""
      ],
      "execution_count": null,
      "outputs": []
    },
    {
      "cell_type": "code",
      "metadata": {
        "id": "5--sgnd42qOl"
      },
      "source": [
        ""
      ],
      "execution_count": null,
      "outputs": []
    },
    {
      "cell_type": "code",
      "metadata": {
        "id": "-1ZU_TOg244N"
      },
      "source": [
        ""
      ],
      "execution_count": null,
      "outputs": []
    },
    {
      "cell_type": "code",
      "metadata": {
        "id": "dcQ72hm33Hhp"
      },
      "source": [
        ""
      ],
      "execution_count": null,
      "outputs": []
    },
    {
      "cell_type": "code",
      "metadata": {
        "id": "_hLhz9AU3WLT"
      },
      "source": [
        ""
      ],
      "execution_count": null,
      "outputs": []
    },
    {
      "cell_type": "code",
      "metadata": {
        "id": "LqjInNVh3k0k"
      },
      "source": [
        ""
      ],
      "execution_count": null,
      "outputs": []
    },
    {
      "cell_type": "code",
      "metadata": {
        "id": "sEfenQFE3zeL"
      },
      "source": [
        ""
      ],
      "execution_count": null,
      "outputs": []
    },
    {
      "cell_type": "code",
      "metadata": {
        "id": "F_Gi_V074CHq"
      },
      "source": [
        ""
      ],
      "execution_count": null,
      "outputs": []
    },
    {
      "cell_type": "code",
      "metadata": {
        "id": "FP7BQY0H4QxH"
      },
      "source": [
        ""
      ],
      "execution_count": null,
      "outputs": []
    },
    {
      "cell_type": "code",
      "metadata": {
        "id": "1z91nksu4fay"
      },
      "source": [
        ""
      ],
      "execution_count": null,
      "outputs": []
    },
    {
      "cell_type": "code",
      "metadata": {
        "id": "11KEjDh54uEM"
      },
      "source": [
        ""
      ],
      "execution_count": null,
      "outputs": []
    },
    {
      "cell_type": "code",
      "metadata": {
        "id": "4pasrg6l48tz"
      },
      "source": [
        ""
      ],
      "execution_count": null,
      "outputs": []
    },
    {
      "cell_type": "code",
      "metadata": {
        "id": "3cMink1v5LXE"
      },
      "source": [
        ""
      ],
      "execution_count": null,
      "outputs": []
    },
    {
      "cell_type": "code",
      "metadata": {
        "id": "IUQ_g_ur5aA0"
      },
      "source": [
        ""
      ],
      "execution_count": null,
      "outputs": []
    },
    {
      "cell_type": "code",
      "metadata": {
        "id": "XDutrUQ15oqU"
      },
      "source": [
        ""
      ],
      "execution_count": null,
      "outputs": []
    },
    {
      "cell_type": "code",
      "metadata": {
        "id": "92bPM5PB53T5"
      },
      "source": [
        ""
      ],
      "execution_count": null,
      "outputs": []
    },
    {
      "cell_type": "code",
      "metadata": {
        "id": "TGsBc7iV6F9S"
      },
      "source": [
        ""
      ],
      "execution_count": null,
      "outputs": []
    },
    {
      "cell_type": "code",
      "metadata": {
        "id": "EnSZmdEL6Une"
      },
      "source": [
        ""
      ],
      "execution_count": null,
      "outputs": []
    },
    {
      "cell_type": "code",
      "metadata": {
        "id": "loGmYlx-6jQR"
      },
      "source": [
        ""
      ],
      "execution_count": null,
      "outputs": []
    },
    {
      "cell_type": "code",
      "metadata": {
        "id": "FsrAtEbG6x5r"
      },
      "source": [
        ""
      ],
      "execution_count": null,
      "outputs": []
    },
    {
      "cell_type": "code",
      "metadata": {
        "id": "TG1z3lt97AjE"
      },
      "source": [
        ""
      ],
      "execution_count": null,
      "outputs": []
    },
    {
      "cell_type": "code",
      "metadata": {
        "id": "kPIF-jHY7PMn"
      },
      "source": [
        ""
      ],
      "execution_count": null,
      "outputs": []
    },
    {
      "cell_type": "code",
      "metadata": {
        "id": "Co_1YC2k7d2S"
      },
      "source": [
        ""
      ],
      "execution_count": null,
      "outputs": []
    },
    {
      "cell_type": "code",
      "metadata": {
        "id": "O6WWG6xL7sfl"
      },
      "source": [
        ""
      ],
      "execution_count": null,
      "outputs": []
    },
    {
      "cell_type": "code",
      "metadata": {
        "id": "IZRI-j8L77JM"
      },
      "source": [
        ""
      ],
      "execution_count": null,
      "outputs": []
    },
    {
      "cell_type": "code",
      "metadata": {
        "id": "lscf_Isa8Jys"
      },
      "source": [
        ""
      ],
      "execution_count": null,
      "outputs": []
    },
    {
      "cell_type": "code",
      "metadata": {
        "id": "BmOZzQTR8YcE"
      },
      "source": [
        ""
      ],
      "execution_count": null,
      "outputs": []
    },
    {
      "cell_type": "code",
      "metadata": {
        "id": "Jh1TCsdP8nGO"
      },
      "source": [
        ""
      ],
      "execution_count": null,
      "outputs": []
    },
    {
      "cell_type": "code",
      "metadata": {
        "id": "-6p_sIXF81vK"
      },
      "source": [
        ""
      ],
      "execution_count": null,
      "outputs": []
    },
    {
      "cell_type": "code",
      "metadata": {
        "id": "gRcdBLjG9EYu"
      },
      "source": [
        ""
      ],
      "execution_count": null,
      "outputs": []
    },
    {
      "cell_type": "code",
      "metadata": {
        "id": "NEyzk4rr9TCN"
      },
      "source": [
        ""
      ],
      "execution_count": null,
      "outputs": []
    },
    {
      "cell_type": "code",
      "metadata": {
        "id": "Z-QNJtGZ9hry"
      },
      "source": [
        ""
      ],
      "execution_count": null,
      "outputs": []
    },
    {
      "cell_type": "code",
      "metadata": {
        "id": "ejI6PjUN9wVS"
      },
      "source": [
        ""
      ],
      "execution_count": null,
      "outputs": []
    },
    {
      "cell_type": "code",
      "metadata": {
        "id": "bMzSYzRc9--x"
      },
      "source": [
        ""
      ],
      "execution_count": null,
      "outputs": []
    },
    {
      "cell_type": "code",
      "metadata": {
        "id": "lXtbZNwt-NoK"
      },
      "source": [
        ""
      ],
      "execution_count": null,
      "outputs": []
    },
    {
      "cell_type": "code",
      "metadata": {
        "id": "hxlr-nFR-cRv"
      },
      "source": [
        ""
      ],
      "execution_count": null,
      "outputs": []
    },
    {
      "cell_type": "code",
      "metadata": {
        "id": "kj3c6VOt-q7j"
      },
      "source": [
        ""
      ],
      "execution_count": null,
      "outputs": []
    },
    {
      "cell_type": "code",
      "metadata": {
        "id": "mrTLifLa-5ky"
      },
      "source": [
        ""
      ],
      "execution_count": null,
      "outputs": []
    },
    {
      "cell_type": "code",
      "metadata": {
        "id": "wA5XqFq9_IOT"
      },
      "source": [
        ""
      ],
      "execution_count": null,
      "outputs": []
    },
    {
      "cell_type": "code",
      "metadata": {
        "id": "30cL8SEq_W3y"
      },
      "source": [
        ""
      ],
      "execution_count": null,
      "outputs": []
    },
    {
      "cell_type": "code",
      "metadata": {
        "id": "0z-ATmE3_lhS"
      },
      "source": [
        ""
      ],
      "execution_count": null,
      "outputs": []
    },
    {
      "cell_type": "code",
      "metadata": {
        "id": "TvcKkf6g_0Kl"
      },
      "source": [
        ""
      ],
      "execution_count": null,
      "outputs": []
    },
    {
      "cell_type": "code",
      "metadata": {
        "id": "LwCBcbdoAC0Q"
      },
      "source": [
        ""
      ],
      "execution_count": null,
      "outputs": []
    },
    {
      "cell_type": "code",
      "metadata": {
        "id": "oczRK_pbARdm"
      },
      "source": [
        ""
      ],
      "execution_count": null,
      "outputs": []
    },
    {
      "cell_type": "code",
      "metadata": {
        "id": "dCec3pF8AgHP"
      },
      "source": [
        ""
      ],
      "execution_count": null,
      "outputs": []
    },
    {
      "cell_type": "code",
      "metadata": {
        "id": "5jenHNihAuww"
      },
      "source": [
        ""
      ],
      "execution_count": null,
      "outputs": []
    },
    {
      "cell_type": "code",
      "metadata": {
        "id": "A-1VhEwwA9aP"
      },
      "source": [
        ""
      ],
      "execution_count": null,
      "outputs": []
    },
    {
      "cell_type": "code",
      "metadata": {
        "id": "YEv-oibZBMDr"
      },
      "source": [
        ""
      ],
      "execution_count": null,
      "outputs": []
    },
    {
      "cell_type": "code",
      "metadata": {
        "id": "xGc9FEd5BatO"
      },
      "source": [
        ""
      ],
      "execution_count": null,
      "outputs": []
    },
    {
      "cell_type": "code",
      "metadata": {
        "id": "-3jJ46F8BpWq"
      },
      "source": [
        ""
      ],
      "execution_count": null,
      "outputs": []
    },
    {
      "cell_type": "code",
      "metadata": {
        "id": "lGnbRCj4B4AJ"
      },
      "source": [
        ""
      ],
      "execution_count": null,
      "outputs": []
    },
    {
      "cell_type": "code",
      "metadata": {
        "id": "C7jGOXTiCGpt"
      },
      "source": [
        ""
      ],
      "execution_count": null,
      "outputs": []
    },
    {
      "cell_type": "code",
      "metadata": {
        "id": "SR9nPFcJCVTO"
      },
      "source": [
        ""
      ],
      "execution_count": null,
      "outputs": []
    },
    {
      "cell_type": "code",
      "metadata": {
        "id": "i_FP6dKKCj8x"
      },
      "source": [
        ""
      ],
      "execution_count": null,
      "outputs": []
    },
    {
      "cell_type": "code",
      "metadata": {
        "id": "gAa6EMreCymG"
      },
      "source": [
        ""
      ],
      "execution_count": null,
      "outputs": []
    },
    {
      "cell_type": "code",
      "metadata": {
        "id": "bGFt-PDBDBPp"
      },
      "source": [
        ""
      ],
      "execution_count": null,
      "outputs": []
    },
    {
      "cell_type": "code",
      "metadata": {
        "id": "fZlUWsvdDP5J"
      },
      "source": [
        ""
      ],
      "execution_count": null,
      "outputs": []
    },
    {
      "cell_type": "code",
      "metadata": {
        "id": "iAWBx8sIDein"
      },
      "source": [
        ""
      ],
      "execution_count": null,
      "outputs": []
    },
    {
      "cell_type": "code",
      "metadata": {
        "id": "LXd915zoDtMF"
      },
      "source": [
        ""
      ],
      "execution_count": null,
      "outputs": []
    },
    {
      "cell_type": "code",
      "metadata": {
        "id": "6tSbIEs-D71s"
      },
      "source": [
        ""
      ],
      "execution_count": null,
      "outputs": []
    },
    {
      "cell_type": "code",
      "metadata": {
        "id": "r40jOcCUEKfL"
      },
      "source": [
        ""
      ],
      "execution_count": null,
      "outputs": []
    },
    {
      "cell_type": "code",
      "metadata": {
        "id": "rTtMoOh8EZJF"
      },
      "source": [
        ""
      ],
      "execution_count": null,
      "outputs": []
    },
    {
      "cell_type": "code",
      "metadata": {
        "id": "ErGeJNFhEnyP"
      },
      "source": [
        ""
      ],
      "execution_count": null,
      "outputs": []
    },
    {
      "cell_type": "code",
      "metadata": {
        "id": "Vpiws6XdE2bu"
      },
      "source": [
        ""
      ],
      "execution_count": null,
      "outputs": []
    },
    {
      "cell_type": "code",
      "metadata": {
        "id": "Yo2-9zIsFFFG"
      },
      "source": [
        ""
      ],
      "execution_count": null,
      "outputs": []
    },
    {
      "cell_type": "code",
      "metadata": {
        "id": "OMieG4H6FTuy"
      },
      "source": [
        ""
      ],
      "execution_count": null,
      "outputs": []
    },
    {
      "cell_type": "code",
      "metadata": {
        "id": "lnHoEZvEFiYR"
      },
      "source": [
        ""
      ],
      "execution_count": null,
      "outputs": []
    },
    {
      "cell_type": "code",
      "metadata": {
        "id": "lSep4jAgFxBq"
      },
      "source": [
        ""
      ],
      "execution_count": null,
      "outputs": []
    },
    {
      "cell_type": "code",
      "metadata": {
        "id": "ybB-rSSVF_rE"
      },
      "source": [
        ""
      ],
      "execution_count": null,
      "outputs": []
    },
    {
      "cell_type": "code",
      "metadata": {
        "id": "Wrrk3H5LGOUp"
      },
      "source": [
        ""
      ],
      "execution_count": null,
      "outputs": []
    },
    {
      "cell_type": "code",
      "metadata": {
        "id": "Z2fGLffeGc-E"
      },
      "source": [
        ""
      ],
      "execution_count": null,
      "outputs": []
    },
    {
      "cell_type": "code",
      "metadata": {
        "id": "ciuH8WK5Grnq"
      },
      "source": [
        ""
      ],
      "execution_count": null,
      "outputs": []
    },
    {
      "cell_type": "code",
      "metadata": {
        "id": "8PswFPUQG6RG"
      },
      "source": [
        ""
      ],
      "execution_count": null,
      "outputs": []
    },
    {
      "cell_type": "code",
      "metadata": {
        "id": "wt6oI4fuHI6t"
      },
      "source": [
        ""
      ],
      "execution_count": null,
      "outputs": []
    },
    {
      "cell_type": "code",
      "metadata": {
        "id": "_-eheBCXHXkG"
      },
      "source": [
        ""
      ],
      "execution_count": null,
      "outputs": []
    },
    {
      "cell_type": "code",
      "metadata": {
        "id": "XVJtG732HmNk"
      },
      "source": [
        ""
      ],
      "execution_count": null,
      "outputs": []
    },
    {
      "cell_type": "code",
      "metadata": {
        "id": "X0Ay4C2sH03G"
      },
      "source": [
        ""
      ],
      "execution_count": null,
      "outputs": []
    },
    {
      "cell_type": "code",
      "metadata": {
        "id": "ZzNjRVgtIDg5"
      },
      "source": [
        ""
      ],
      "execution_count": null,
      "outputs": []
    },
    {
      "cell_type": "code",
      "metadata": {
        "id": "o0BmnVqoISKE"
      },
      "source": [
        ""
      ],
      "execution_count": null,
      "outputs": []
    },
    {
      "cell_type": "code",
      "metadata": {
        "id": "RopSGRqJIgzz"
      },
      "source": [
        ""
      ],
      "execution_count": null,
      "outputs": []
    },
    {
      "cell_type": "code",
      "metadata": {
        "id": "lbFb8LXKIvdE"
      },
      "source": [
        ""
      ],
      "execution_count": null,
      "outputs": []
    },
    {
      "cell_type": "code",
      "metadata": {
        "id": "dO9ZJRAZI-Gp"
      },
      "source": [
        ""
      ],
      "execution_count": null,
      "outputs": []
    },
    {
      "cell_type": "code",
      "metadata": {
        "id": "Ped1aNgOJMwD"
      },
      "source": [
        ""
      ],
      "execution_count": null,
      "outputs": []
    },
    {
      "cell_type": "code",
      "metadata": {
        "id": "wQlRxUfxJbZs"
      },
      "source": [
        ""
      ],
      "execution_count": null,
      "outputs": []
    },
    {
      "cell_type": "code",
      "metadata": {
        "id": "z_1LsYi7JqDD"
      },
      "source": [
        ""
      ],
      "execution_count": null,
      "outputs": []
    },
    {
      "cell_type": "code",
      "metadata": {
        "id": "TPWN5yHpJ4sk"
      },
      "source": [
        ""
      ],
      "execution_count": null,
      "outputs": []
    },
    {
      "cell_type": "code",
      "metadata": {
        "id": "IqyZIjfQKHWE"
      },
      "source": [
        ""
      ],
      "execution_count": null,
      "outputs": []
    },
    {
      "cell_type": "code",
      "metadata": {
        "id": "8dXed_ncKV_k"
      },
      "source": [
        ""
      ],
      "execution_count": null,
      "outputs": []
    },
    {
      "cell_type": "code",
      "metadata": {
        "id": "8j7vtZI4KkpR"
      },
      "source": [
        ""
      ],
      "execution_count": null,
      "outputs": []
    },
    {
      "cell_type": "code",
      "metadata": {
        "id": "IR9TT5UyKzSx"
      },
      "source": [
        ""
      ],
      "execution_count": null,
      "outputs": []
    },
    {
      "cell_type": "code",
      "metadata": {
        "id": "OvuDE9b3LB8O"
      },
      "source": [
        ""
      ],
      "execution_count": null,
      "outputs": []
    },
    {
      "cell_type": "code",
      "metadata": {
        "id": "0QYwBz9HLQlu"
      },
      "source": [
        ""
      ],
      "execution_count": null,
      "outputs": []
    },
    {
      "cell_type": "code",
      "metadata": {
        "id": "TjUfgM6pLfPE"
      },
      "source": [
        ""
      ],
      "execution_count": null,
      "outputs": []
    },
    {
      "cell_type": "code",
      "metadata": {
        "id": "sHBu_vypLt4n"
      },
      "source": [
        ""
      ],
      "execution_count": null,
      "outputs": []
    },
    {
      "cell_type": "code",
      "metadata": {
        "id": "bPhjrc_SL8iG"
      },
      "source": [
        ""
      ],
      "execution_count": null,
      "outputs": []
    },
    {
      "cell_type": "code",
      "metadata": {
        "id": "5e9qqj2CMLLm"
      },
      "source": [
        ""
      ],
      "execution_count": null,
      "outputs": []
    },
    {
      "cell_type": "code",
      "metadata": {
        "id": "iWHy-AXCMZ1E"
      },
      "source": [
        ""
      ],
      "execution_count": null,
      "outputs": []
    },
    {
      "cell_type": "code",
      "metadata": {
        "id": "a37NXQL1Moe0"
      },
      "source": [
        ""
      ],
      "execution_count": null,
      "outputs": []
    },
    {
      "cell_type": "code",
      "metadata": {
        "id": "pPY6-hpCM3IC"
      },
      "source": [
        ""
      ],
      "execution_count": null,
      "outputs": []
    },
    {
      "cell_type": "code",
      "metadata": {
        "id": "fot6pRWINFxu"
      },
      "source": [
        ""
      ],
      "execution_count": null,
      "outputs": []
    },
    {
      "cell_type": "code",
      "metadata": {
        "id": "3wakI30INUbJ"
      },
      "source": [
        ""
      ],
      "execution_count": null,
      "outputs": []
    },
    {
      "cell_type": "code",
      "metadata": {
        "id": "DIUfcSD9NjEv"
      },
      "source": [
        ""
      ],
      "execution_count": null,
      "outputs": []
    },
    {
      "cell_type": "code",
      "metadata": {
        "id": "wm__3z1DNxuO"
      },
      "source": [
        ""
      ],
      "execution_count": null,
      "outputs": []
    },
    {
      "cell_type": "code",
      "metadata": {
        "id": "RmVaV47vOAXk"
      },
      "source": [
        ""
      ],
      "execution_count": null,
      "outputs": []
    },
    {
      "cell_type": "code",
      "metadata": {
        "id": "7zJo73R1OPBK"
      },
      "source": [
        ""
      ],
      "execution_count": null,
      "outputs": []
    },
    {
      "cell_type": "code",
      "metadata": {
        "id": "lWyPjzVKOdql"
      },
      "source": [
        ""
      ],
      "execution_count": null,
      "outputs": []
    },
    {
      "cell_type": "code",
      "metadata": {
        "id": "-ltcRAVUOsUD"
      },
      "source": [
        ""
      ],
      "execution_count": null,
      "outputs": []
    },
    {
      "cell_type": "code",
      "metadata": {
        "id": "zkWQWMTDO69p"
      },
      "source": [
        ""
      ],
      "execution_count": null,
      "outputs": []
    },
    {
      "cell_type": "code",
      "metadata": {
        "id": "n4zBa1TuaA3y"
      },
      "source": [
        ""
      ],
      "execution_count": null,
      "outputs": []
    }
  ]
}